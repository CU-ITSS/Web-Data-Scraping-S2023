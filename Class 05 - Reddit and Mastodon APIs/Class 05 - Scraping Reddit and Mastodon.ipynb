{
 "cells": [
  {
   "cell_type": "markdown",
   "metadata": {},
   "source": [
    "# Web Data Scraping\n",
    "\n",
    "[Spring 2023 ITSS Mini-Course](https://www.colorado.edu/cartss/programs/interdisciplinary-training-social-sciences-itss/mini-course-web-data-scraping) — ARSC 5040  \n",
    "[Brian C. Keegan, Ph.D.](http://brianckeegan.com/)  \n",
    "[Assistant Professor, Department of Information Science](https://www.colorado.edu/cmci/people/information-science/brian-c-keegan)  \n",
    "University of Colorado Boulder  \n",
    "\n",
    "Copyright and distributed under an [MIT License](https://opensource.org/licenses/MIT)\n",
    "\n",
    "## Class outline\n",
    "\n",
    "* **Week 1**: Introduction to Jupyter, browser console, structured data, ethical considerations\n",
    "* **Week 2**: Scraping HTML with `requests` and `BeautifulSoup`\n",
    "* **Week 3**: Scraping web data with Selenium\n",
    "* **Week 4**: Scraping the Internet Archive and Wikipedia APIs\n",
    "* **Week 5**: Scraping the Reddit and Mastodon APIs\n",
    "\n",
    "## Acknowledgements\n",
    "\n",
    "This course will draw on resources built by myself and [Allison Morgan](https://allisonmorgan.github.io/) for the [2018 Summer Institute for Computational Social Science](https://github.com/allisonmorgan/sicss_boulder), which were in turn derived from [other resources](https://github.com/simonmunzert/web-scraping-with-r-extended-edition) developed by [Simon Munzert](http://simonmunzert.github.io/) and [Chris Bail](http://www.chrisbail.net/). \n",
    "\n",
    "Thank you also to Professor [Terra KcKinnish](https://www.colorado.edu/economics/people/faculty/terra-mckinnish) for coordinating the ITSS seminars.\n",
    "\n",
    "This notebook is adapted from excellent notebooks in Dr. [Cody Buntain](http://cody.bunta.in/)'s seminar on [Social Media and Crisis Informatics](http://cody.bunta.in/teaching/2018_winter_umd_inst728e/) as well as the [PRAW documentation](https://praw.readthedocs.io/en/latest/).\n",
    "\n",
    "## Class 5 goals\n",
    "\n",
    "* Sharing accomplishments and challenges with last week's material\n",
    "* Authenticating with a closed API \n",
    "* Retrieving data from the Reddit API using [PRAW](https://praw.readthedocs.io/en/stable/) and [PSAW](https://github.com/dmarx/psaw)\n",
    "* Retrieving data from the Mastodon API using [`mastodon.py`](https://mastodonpy.readthedocs.io/en/stable/)"
   ]
  },
  {
   "cell_type": "markdown",
   "metadata": {},
   "source": [
    "We'll need a few common libraries for all these examples."
   ]
  },
  {
   "cell_type": "code",
   "execution_count": 1,
   "metadata": {},
   "outputs": [],
   "source": [
    "# Lets us talk to other servers on the web\n",
    "import requests\n",
    "\n",
    "# APIs spit out data in JSON\n",
    "import json\n",
    "\n",
    "# Use BeautifulSoup to parse some HTML\n",
    "from bs4 import BeautifulSoup\n",
    "\n",
    "# Handling dates and times\n",
    "from datetime import datetime\n",
    "\n",
    "# DataFrames!\n",
    "import pandas as pd\n",
    "import numpy as np\n",
    "\n",
    "# Data visualization\n",
    "%matplotlib inline\n",
    "import matplotlib.pyplot as plt\n",
    "import seaborn as sb"
   ]
  },
  {
   "cell_type": "markdown",
   "metadata": {},
   "source": [
    "## Scraping Reddit\n",
    "\n",
    "Reddit also hosts a lot of detailed behavioral data that could be of interest to social scientists. As was the case with Wikipedia, our naïve inclination may be to develop scrapers and parsers to extract this information, but Reddit will give much of it to you for free through their API!\n",
    "\n",
    "You can retrieve a few different types of entities from Reddit's API: sub-reddits, submissions, comments, and redditors. Many of these are interoperable: a sub-reddit contains submissions contributed by redditors with comments from other redditors.\n",
    "\n",
    "We will use a wrapper library to communicate with the Reddit API called [Python Reddit API Wrapper](https://praw.readthedocs.io/en/latest/) or `praw`. \n",
    "\n",
    "Copy the code below to your terminal to install `praw`."
   ]
  },
  {
   "cell_type": "raw",
   "metadata": {},
   "source": [
    "! conda install -c conda-forge praw"
   ]
  },
  {
   "cell_type": "markdown",
   "metadata": {},
   "source": [
    "Afterwards, we can import `praw`."
   ]
  },
  {
   "cell_type": "code",
   "execution_count": null,
   "metadata": {},
   "outputs": [],
   "source": [
    "import praw"
   ]
  },
  {
   "cell_type": "markdown",
   "metadata": {},
   "source": [
    "We then need to authenticate with Reddit to get access to the API. Typically you can just enter the client ID, client secret, password, username, *etc*. as strings. \n",
    "\n",
    "1. You will need to create an account on Reddit. After you have created an account and logged in, go to https://www.reddit.com/prefs/apps/. \n",
    "2. Scroll down and click the \"create app\" button at the bottom. Provide a basic name, description, and enter a URL for your homepage (or just use http://www.colorado.edu).\n",
    "3. You will need the client ID (the string of characters beneath the name of your app) as well as the secret (the other string of characters) as well as your username and password.\n",
    "4. You can make up a user-agent string, but include your username as good practice for the sysadmins to track you down if you break things.\n",
    "\n",
    "![Image from Cody Buntain](http://www.cs.umd.edu/~cbuntain/inst728e/reddit_screens/1-003a.png)\n",
    "\n",
    "You'll create an API connector object (`r`) below that will authenticate with the API and handle making the requests."
   ]
  },
  {
   "cell_type": "code",
   "execution_count": null,
   "metadata": {},
   "outputs": [],
   "source": [
    "r = praw.Reddit(\n",
    "    client_id='your application id',\n",
    "    client_secret='your application secret',\n",
    "    password='your account password',\n",
    "    user_agent='scraping script by /u/youraccountname',\n",
    "    username='your account name'\n",
    ")"
   ]
  },
  {
   "cell_type": "markdown",
   "metadata": {},
   "source": [
    "You can confirm that this authentication process worked by making a simple request like printing your username."
   ]
  },
  {
   "cell_type": "code",
   "execution_count": null,
   "metadata": {},
   "outputs": [],
   "source": [
    "print(r.user.me())"
   ]
  },
  {
   "cell_type": "markdown",
   "metadata": {},
   "source": [
    "I'm going to read them in from a local file (\"login.json\") so that I post this notebook on the internet in the future without compromising my account security. This won't work for you, so just skip this step."
   ]
  },
  {
   "cell_type": "code",
   "execution_count": null,
   "metadata": {},
   "outputs": [],
   "source": [
    "# Load my credentials from a local disk so I don't show the world\n",
    "with open('reddit_login.json','r') as f:\n",
    "    r_creds = json.load(f)\n",
    "    \n",
    "# Create an authenticated reddit instance using the creds\n",
    "r = praw.Reddit(client_id = r_creds['client_id'],\n",
    "                client_secret = r_creds['client_secret'],\n",
    "                password = r_creds['password'],\n",
    "                user_agent = r_creds['user_agent'],\n",
    "                username = r_creds['username'])\n",
    "\n",
    "# Make sure your reddit instance works\n",
    "print(r.user.me())"
   ]
  },
  {
   "cell_type": "markdown",
   "metadata": {},
   "source": [
    "### Sub-reddits\n",
    "Now print the top 25 stories in /r/news.\n",
    "\n",
    "[Documentation for the Subreddit model in PRAW](https://praw.readthedocs.io/en/latest/code_overview/models/subreddit.html)."
   ]
  },
  {
   "cell_type": "markdown",
   "metadata": {},
   "source": [
    "Create a `news_subreddit` object to store the various attributes about this sub-reddit."
   ]
  },
  {
   "cell_type": "code",
   "execution_count": null,
   "metadata": {},
   "outputs": [],
   "source": [
    "news_subreddit = r.subreddit('news')"
   ]
  },
  {
   "cell_type": "markdown",
   "metadata": {},
   "source": [
    "The `news_subreddit` has a number of attributes and methods you can call on it. The time the sub-reddit was founded."
   ]
  },
  {
   "cell_type": "code",
   "execution_count": null,
   "metadata": {},
   "outputs": [],
   "source": [
    "news_subreddit.created_utc"
   ]
  },
  {
   "cell_type": "markdown",
   "metadata": {},
   "source": [
    "That's formatted in a UNIX timecode (seconds since 1 January 1970), but we can convert it into a more readable timestamp with `datetime`'s `utcfromtimestamp`."
   ]
  },
  {
   "cell_type": "code",
   "execution_count": null,
   "metadata": {},
   "outputs": [],
   "source": [
    "print(datetime.utcfromtimestamp(news_subreddit.created_utc))"
   ]
  },
  {
   "cell_type": "markdown",
   "metadata": {},
   "source": [
    "There are other attributes such as the number of subscribers, current active users, as well as the description of the sub-reddit."
   ]
  },
  {
   "cell_type": "code",
   "execution_count": null,
   "metadata": {},
   "outputs": [],
   "source": [
    "'{0:,}'.format(news_subreddit.subscribers)"
   ]
  },
  {
   "cell_type": "code",
   "execution_count": null,
   "metadata": {},
   "outputs": [],
   "source": [
    "news_subreddit.over18"
   ]
  },
  {
   "cell_type": "code",
   "execution_count": null,
   "metadata": {},
   "outputs": [],
   "source": [
    "news_subreddit.active_user_count"
   ]
  },
  {
   "cell_type": "code",
   "execution_count": null,
   "metadata": {},
   "outputs": [],
   "source": [
    "print(news_subreddit.description)"
   ]
  },
  {
   "cell_type": "markdown",
   "metadata": {},
   "source": [
    "The rules of the sub-reddit are available as a method `.rules()` which returns a list of dictionaries of rule objects."
   ]
  },
  {
   "cell_type": "code",
   "execution_count": null,
   "metadata": {},
   "outputs": [],
   "source": [
    "news_subreddit.rules()['rules']"
   ]
  },
  {
   "cell_type": "markdown",
   "metadata": {},
   "source": [
    "When were each of these rules created? Loop through each of the rules and print the \"short_name\" of the rule and the rule timestamp."
   ]
  },
  {
   "cell_type": "code",
   "execution_count": null,
   "metadata": {},
   "outputs": [],
   "source": [
    "for rule in news_subreddit.rules()['rules']:\n",
    "    created = rule['created_utc']\n",
    "    print(rule['short_name'], datetime.utcfromtimestamp(created))"
   ]
  },
  {
   "cell_type": "markdown",
   "metadata": {},
   "source": [
    "We can also get a list of the moderators for this subreddit."
   ]
  },
  {
   "cell_type": "code",
   "execution_count": null,
   "metadata": {},
   "outputs": [],
   "source": [
    "mod_list = []\n",
    "\n",
    "for mod in news_subreddit.moderator():\n",
    "    mod_list.append(mod.name)\n",
    "    \n",
    "mod_list"
   ]
  },
  {
   "cell_type": "markdown",
   "metadata": {},
   "source": [
    "### Submissions\n",
    "\n",
    "We can get a list of submissions to a sub-reddit using [a few different methods](https://praw.readthedocs.io/en/latest/code_overview/models/subreddit.html).\n",
    "\n",
    "* `.controversial()`\n",
    "* `.hot()`\n",
    "* `.new()`\n",
    "* `.rising()`\n",
    "* `.search()`\n",
    "* `.top()`\n",
    "\n",
    "Here we will use the `.top()` method to get the top 25 submissions on the /r/news subreddit from the past 12 months.\n",
    "\n",
    "[Documentation for the Submission model in PRAW](https://praw.readthedocs.io/en/latest/code_overview/models/submission.html)."
   ]
  },
  {
   "cell_type": "code",
   "execution_count": null,
   "metadata": {},
   "outputs": [],
   "source": [
    "top25_news = r.subreddit('news').top('year',limit=25)"
   ]
  },
  {
   "cell_type": "markdown",
   "metadata": {},
   "source": [
    "`top25_news` is a `ListingGenerator` object, which is a special [generator](https://www.dataquest.io/blog/python-generators-tutorial/) class defined by PRAW. It does not actually go out and get the data at this stage. There's not much you can do to look inside this `ListingGenerator` other than loop through and perform operations. In this case, lets add each submission to a list of `top25_submissions`."
   ]
  },
  {
   "cell_type": "code",
   "execution_count": null,
   "metadata": {},
   "outputs": [],
   "source": [
    "top25_submissions = []\n",
    "\n",
    "for submission in r.subreddit('news').top('year',limit=25):\n",
    "    top25_submissions.append(submission)"
   ]
  },
  {
   "cell_type": "markdown",
   "metadata": {},
   "source": [
    "We can inspect the first (top) `Submission` object."
   ]
  },
  {
   "cell_type": "code",
   "execution_count": null,
   "metadata": {},
   "outputs": [],
   "source": [
    "first_submission = top25_submissions[0]\n",
    "first_submission"
   ]
  },
  {
   "cell_type": "markdown",
   "metadata": {},
   "source": [
    "Use the `dir` function to see the other methods and attributes inside this first top `Submission` object. (There are a lot of other \"hidden\" attributes and methods that use the \"\\_\" which we can ignore with this list comprehension.)"
   ]
  },
  {
   "cell_type": "code",
   "execution_count": null,
   "metadata": {},
   "outputs": [],
   "source": [
    "[i for i in dir(first_submission) if '_' not in i]"
   ]
  },
  {
   "cell_type": "markdown",
   "metadata": {},
   "source": [
    "`vars` may be even more helpful."
   ]
  },
  {
   "cell_type": "code",
   "execution_count": null,
   "metadata": {},
   "outputs": [],
   "source": [
    "vars(first_submission)"
   ]
  },
  {
   "cell_type": "markdown",
   "metadata": {},
   "source": [
    "We can extract the features of each submission, store them in a dictionary, and save to an external list. This step will take a while (approximately one second per submission) because we make an API call for each submission in the `ListingGenerator` returned by the `r.subreddit('news').top('year',limit=25)` we're looping through."
   ]
  },
  {
   "cell_type": "code",
   "execution_count": null,
   "metadata": {},
   "outputs": [],
   "source": [
    "submission_stats = []\n",
    "\n",
    "for submission in r.subreddit('news').top('year',limit=25):\n",
    "    d = {}\n",
    "    d['id'] = submission.id\n",
    "    d['title'] = submission.title\n",
    "    d['num_comments'] = submission.num_comments\n",
    "    d['score'] = submission.score\n",
    "    d['upvote_ratio'] = submission.upvote_ratio\n",
    "    d['date'] = datetime.utcfromtimestamp(submission.created_utc)\n",
    "    d['domain'] = submission.domain\n",
    "    d['gilded'] = submission.gilded\n",
    "    d['num_crossposts'] = submission.num_crossposts\n",
    "    d['nsfw'] = submission.over_18\n",
    "    if submission.author is not None:\n",
    "        d['author'] = submission.author.name\n",
    "    submission_stats.append(d)"
   ]
  },
  {
   "cell_type": "markdown",
   "metadata": {},
   "source": [
    "We can turn `submission_stats` into a pandas DataFrame."
   ]
  },
  {
   "cell_type": "code",
   "execution_count": null,
   "metadata": {},
   "outputs": [],
   "source": [
    "top25_df = pd.DataFrame(submission_stats)\n",
    "top25_df.head()"
   ]
  },
  {
   "cell_type": "markdown",
   "metadata": {},
   "source": [
    "Plot out the relationship between score and number of comments."
   ]
  },
  {
   "cell_type": "code",
   "execution_count": null,
   "metadata": {},
   "outputs": [],
   "source": [
    "ax = top25_df.plot.scatter(x='score',y='num_comments',s=50,c='k',alpha=.5)\n",
    "# ax.set_xlim((0,200000))\n",
    "# ax.set_ylim((0,16000))"
   ]
  },
  {
   "cell_type": "markdown",
   "metadata": {},
   "source": [
    "### Comments\n",
    "\n",
    "This is a simple Reddit submission: [What is a dataset that you can't believe is available to the public?](https://www.reddit.com/r/datasets/comments/akb4mr/what_is_a_dataset_that_you_cant_believe_is/). We can inspect the comments in this simple submission.\n",
    "\n",
    "[Documentation for Comment model in PRAW](https://praw.readthedocs.io/en/latest/code_overview/models/comment.html)."
   ]
  },
  {
   "cell_type": "code",
   "execution_count": null,
   "metadata": {},
   "outputs": [],
   "source": [
    "cant_believe = r.submission(id='akb4mr')\n",
    "\n",
    "print(\"This submission was made on {0}.\".format(datetime.utcfromtimestamp(cant_believe.created_utc)))\n",
    "print(\"There are {0:,} comments.\".format(cant_believe.num_comments))"
   ]
  },
  {
   "cell_type": "markdown",
   "metadata": {},
   "source": [
    "We can inspect these comments, working from the [Comment Extraction and Parsing](https://praw.readthedocs.io/en/latest/tutorials/comments.html) tutorial in PRAW."
   ]
  },
  {
   "cell_type": "code",
   "execution_count": null,
   "metadata": {},
   "outputs": [],
   "source": [
    "cant_believe.comments.replace_more(limit=None)\n",
    "\n",
    "for comment in cant_believe.comments.list():\n",
    "    print(comment.body)"
   ]
  },
  {
   "cell_type": "markdown",
   "metadata": {},
   "source": [
    "Each comment has a lot of metadata we can preserve."
   ]
  },
  {
   "cell_type": "code",
   "execution_count": null,
   "metadata": {},
   "outputs": [],
   "source": [
    "cant_believe_comment_metadata = []\n",
    "\n",
    "for comment in cant_believe.comments.list():\n",
    "    if not comment.collapsed: # Skip collapsed/deleted comments\n",
    "        d = {}\n",
    "        d['id'] = comment.id\n",
    "        d['parent_id'] = comment.parent_id\n",
    "        d['body'] = comment.body\n",
    "        d['depth'] = comment.depth\n",
    "        d['edited'] = comment.edited\n",
    "        d['score'] = comment.score\n",
    "        d['date'] = datetime.utcfromtimestamp(comment.created_utc)\n",
    "        d['submission_id'] = comment.submission.id\n",
    "        d['submission_title'] = comment.submission.title\n",
    "        d['subreddit'] = comment.subreddit.display_name\n",
    "        if comment.author is not None:\n",
    "            d['author'] = comment.author.name\n",
    "        cant_believe_comment_metadata.append(d)"
   ]
  },
  {
   "cell_type": "markdown",
   "metadata": {},
   "source": [
    "Convert to a DataFrame."
   ]
  },
  {
   "cell_type": "code",
   "execution_count": null,
   "metadata": {},
   "outputs": [],
   "source": [
    "cant_believe_df = pd.DataFrame(cant_believe_comment_metadata)\n",
    "\n",
    "# How long is the comment\n",
    "cant_believe_df['comment_length'] = cant_believe_df['body'].str.len()\n",
    "\n",
    "cant_believe_df.head()"
   ]
  },
  {
   "cell_type": "markdown",
   "metadata": {},
   "source": [
    "Do comments deeper in this comment tree have lower scores?"
   ]
  },
  {
   "cell_type": "code",
   "execution_count": null,
   "metadata": {},
   "outputs": [],
   "source": [
    "sb.catplot(x='depth',y='score',data=cant_believe_df,kind='bar',color='lightblue')"
   ]
  },
  {
   "cell_type": "markdown",
   "metadata": {},
   "source": [
    "Do comments deeper in this comment tree have shorter lengths?"
   ]
  },
  {
   "cell_type": "code",
   "execution_count": null,
   "metadata": {},
   "outputs": [],
   "source": [
    "sb.catplot(x='depth',y='comment_length',data=cant_believe_df,kind='bar',color='lightblue')"
   ]
  },
  {
   "cell_type": "markdown",
   "metadata": {},
   "source": [
    "### Redditors\n",
    "\n",
    "A Redditor is a user and we can get meta-data about the account as well as the history of the user's comments and submissions from the API.\n",
    "\n",
    "[Documentation for the Redditor model in PRAW](https://praw.readthedocs.io/en/latest/code_overview/models/redditor.html).\n",
    "\n",
    "How much link and comment karma does this user have?"
   ]
  },
  {
   "cell_type": "code",
   "execution_count": null,
   "metadata": {},
   "outputs": [],
   "source": [
    "spez = r.redditor('spez')\n",
    "print(\"Link karma: {0:,}\".format(spez.link_karma))\n",
    "print(\"Comment karma: {0:,}\".format(spez.comment_karma))"
   ]
  },
  {
   "cell_type": "markdown",
   "metadata": {},
   "source": [
    "Interestingly, Reddit flags the users who are employees of Reddit as well as if accounts have verified email addresses."
   ]
  },
  {
   "cell_type": "code",
   "execution_count": null,
   "metadata": {},
   "outputs": [],
   "source": [
    "spez.is_employee"
   ]
  },
  {
   "cell_type": "code",
   "execution_count": null,
   "metadata": {},
   "outputs": [],
   "source": [
    "spez.has_verified_email"
   ]
  },
  {
   "cell_type": "markdown",
   "metadata": {},
   "source": [
    "We can also get the time this user's account was created."
   ]
  },
  {
   "cell_type": "code",
   "execution_count": null,
   "metadata": {},
   "outputs": [],
   "source": [
    "datetime.utcfromtimestamp(spez.created_utc)"
   ]
  },
  {
   "cell_type": "markdown",
   "metadata": {},
   "source": [
    "We can also get information about individual redditors' submissions and comment histories. Here we will use u/spez (the CEO of Reddit), get his top-voted submissions, and loop through them to get the data for each submission."
   ]
  },
  {
   "cell_type": "code",
   "execution_count": null,
   "metadata": {},
   "outputs": [],
   "source": [
    "spez_submissions = []\n",
    "\n",
    "for submission in r.redditor('spez').submissions.top('all',limit=25):\n",
    "    d = {}\n",
    "    d['id'] = submission.id\n",
    "    d['title'] = submission.title\n",
    "    d['num_comments'] = submission.num_comments\n",
    "    d['score'] = submission.score\n",
    "    d['upvote_ratio'] = submission.upvote_ratio\n",
    "    d['date'] = datetime.utcfromtimestamp(submission.created_utc)\n",
    "    d['domain'] = submission.domain\n",
    "    d['gilded'] = submission.gilded\n",
    "    d['num_crossposts'] = submission.num_crossposts\n",
    "    d['nsfw'] = submission.over_18\n",
    "    if comment.author is not None:\n",
    "        d['author'] = submission.author.name\n",
    "    spez_submissions.append(d)"
   ]
  },
  {
   "cell_type": "markdown",
   "metadata": {},
   "source": [
    "Again we can turn this list of dictionaries into a DataFrame to do substantive data analysis."
   ]
  },
  {
   "cell_type": "code",
   "execution_count": null,
   "metadata": {},
   "outputs": [],
   "source": [
    "pd.DataFrame(spez_submissions).head()"
   ]
  },
  {
   "cell_type": "markdown",
   "metadata": {},
   "source": [
    "We can also get all the comments made by an editor."
   ]
  },
  {
   "cell_type": "code",
   "execution_count": null,
   "metadata": {},
   "outputs": [],
   "source": [
    "spez_comments = []\n",
    "\n",
    "for comment in r.redditor('spez').comments.top('all',limit=25):\n",
    "    d = {}\n",
    "    d['id'] = comment.id\n",
    "    d['body'] = comment.body\n",
    "    try:\n",
    "        d['depth'] = comment.depth\n",
    "    except:\n",
    "        d['depth'] = np.nan\n",
    "    d['edited'] = comment.edited\n",
    "    d['score'] = comment.score\n",
    "    d['date'] = datetime.utcfromtimestamp(comment.created_utc)\n",
    "    d['submission_id'] = comment.submission.id\n",
    "    d['submission_title'] = comment.submission.title\n",
    "    d['subreddit'] = comment.subreddit.display_name\n",
    "    if comment.author is not None:\n",
    "        d['author'] = comment.author.name\n",
    "    spez_comments.append(d)"
   ]
  },
  {
   "cell_type": "code",
   "execution_count": null,
   "metadata": {},
   "outputs": [],
   "source": [
    "pd.DataFrame(spez_comments).head()"
   ]
  },
  {
   "cell_type": "markdown",
   "metadata": {},
   "source": [
    "This user's top comments are mostly focused in the /r/announcements subreddit."
   ]
  },
  {
   "cell_type": "code",
   "execution_count": null,
   "metadata": {},
   "outputs": [],
   "source": [
    "pd.DataFrame(spez_comments)['subreddit'].value_counts()"
   ]
  },
  {
   "cell_type": "markdown",
   "metadata": {},
   "source": [
    "### Archived data via PushShift\n",
    "\n",
    "PushShift is a researcher-maintained archive of Reddit posts and comments. Full data dumps of [submissions](https://files.pushshift.io/reddit/submissions/) and [comments](https://files.pushshift.io/reddit/comments/) are available, although these are (unsurprisingly) very space intensive. You can also access an API to make [ElasticSearch](https://www.elastic.co/elasticsearch/) queries against a database of this archive of submissions and comments. Unfortunately, the service is frequently down. \n",
    "\n",
    "We will use the [`pmaw`](https://github.com/mattpodolak/pmaw) library to access this data endpoint using Python. Install `pmaw` once:"
   ]
  },
  {
   "cell_type": "code",
   "execution_count": 4,
   "metadata": {},
   "outputs": [
    {
     "name": "stdout",
     "output_type": "stream",
     "text": [
      "Collecting pmaw\n",
      "  Downloading pmaw-3.0.0-py3-none-any.whl (29 kB)\n",
      "Requirement already satisfied: requests in c:\\programdata\\miniconda3\\lib\\site-packages (from pmaw) (2.28.2)\n",
      "Requirement already satisfied: praw in c:\\programdata\\miniconda3\\lib\\site-packages (from pmaw) (7.6.1)\n",
      "Requirement already satisfied: update-checker>=0.18 in c:\\programdata\\miniconda3\\lib\\site-packages (from praw->pmaw) (0.18.0)\n",
      "Requirement already satisfied: prawcore<3,>=2.1 in c:\\programdata\\miniconda3\\lib\\site-packages (from praw->pmaw) (2.3.0)\n",
      "Requirement already satisfied: websocket-client>=0.54.0 in c:\\programdata\\miniconda3\\lib\\site-packages (from praw->pmaw) (1.5.1)\n",
      "Requirement already satisfied: charset-normalizer<4,>=2 in c:\\programdata\\miniconda3\\lib\\site-packages (from requests->pmaw) (2.1.1)\n",
      "Requirement already satisfied: urllib3<1.27,>=1.21.1 in c:\\programdata\\miniconda3\\lib\\site-packages (from requests->pmaw) (1.26.14)\n",
      "Requirement already satisfied: idna<4,>=2.5 in c:\\programdata\\miniconda3\\lib\\site-packages (from requests->pmaw) (3.4)\n",
      "Requirement already satisfied: certifi>=2017.4.17 in c:\\programdata\\miniconda3\\lib\\site-packages (from requests->pmaw) (2022.12.7)\n",
      "Installing collected packages: pmaw\n",
      "Successfully installed pmaw-3.0.0\n"
     ]
    }
   ],
   "source": [
    "! pip install pmaw"
   ]
  },
  {
   "cell_type": "markdown",
   "metadata": {},
   "source": [
    "Load up the `PushshiftAPI` class from `psaw`."
   ]
  },
  {
   "cell_type": "code",
   "execution_count": 5,
   "metadata": {},
   "outputs": [],
   "source": [
    "from pmaw import PushshiftAPI\n",
    "\n",
    "api = PushshiftAPI()"
   ]
  },
  {
   "cell_type": "markdown",
   "metadata": {},
   "source": [
    "Retrieve the submission history for a subreddit."
   ]
  },
  {
   "cell_type": "code",
   "execution_count": 19,
   "metadata": {},
   "outputs": [
    {
     "name": "stderr",
     "output_type": "stream",
     "text": [
      "Not all PushShift shards are active. Query results may be incomplete.\n"
     ]
    },
    {
     "data": {
      "text/plain": [
       "0"
      ]
     },
     "execution_count": 19,
     "metadata": {},
     "output_type": "execute_result"
    }
   ],
   "source": [
    "submissions = api.search_submissions(subreddit=\"wallstreetbets\",limit=10000,score=\">1000\")\n",
    "\n",
    "submissions_list = [p for p in submissions]\n",
    "\n",
    "len(submissions_list)"
   ]
  },
  {
   "cell_type": "markdown",
   "metadata": {},
   "source": [
    "## Scraping Mastodon\n",
    "\n",
    "After Twitter's acquisition by Elon Musk in October 2022, the service rapidly deteriorated through neglect and mismanagement. Given the increasingly precarity of Twitter's API access, I do not recommend that researchers build projects around Twitter data access and availability. \n",
    "\n",
    "I am consciously moving this course towards alternatives like [Mastodon](https://joinmastodon.org/). Mastodon and its API have similar but not identical affordances as Twitter as both a user and developer. **Importantly**, Mastodon users are much more resistant to having their data being collected, even by researchers. Users can [opt-out of being indexed](https://docs.joinmastodon.org/user/preferences/#misc) by search engines and the \"noindex\" meta-data value included in their user information.\n",
    "\n",
    "Like most semi-public APIs, you will need to register an account first. I would recommend the following academic-focused instances, and there are [many others](https://github.com/nathanlesage/academics-on-mastodon):\n",
    "* [sciences.social](https://sciences.social/) - General social sciences\n",
    "* [hcommons.social](https://hcommons.social/) - Digital humanities\n",
    "* [mstdn.science](https://mstdn.science/) - Microbiology initially\n",
    "* [datasci.social](https://datasci.social/) - Data science\n",
    "* [historians.social](https://historians.social/) - Historians\n",
    "* [hci.social](https://hci.social/) - Human-computer interaction\n",
    "* [sigmoid.social](https://sigmoid.social/) - AI\n",
    "\n",
    "We will use the [Mastodon.py](https://mastodonpy.readthedocs.io/) library. Install from pip once:"
   ]
  },
  {
   "cell_type": "code",
   "execution_count": 20,
   "metadata": {},
   "outputs": [
    {
     "name": "stdout",
     "output_type": "stream",
     "text": [
      "Collecting Mastodon.py\n",
      "  Downloading Mastodon.py-1.8.0-py2.py3-none-any.whl (64 kB)\n",
      "     ---------------------------------------- 0.0/64.5 kB ? eta -:--:--\n",
      "     ------ --------------------------------- 10.2/64.5 kB ? eta -:--:--\n",
      "     ------------------------------------ - 61.4/64.5 kB 825.8 kB/s eta 0:00:01\n",
      "     -------------------------------------- 64.5/64.5 kB 695.8 kB/s eta 0:00:00\n",
      "Requirement already satisfied: decorator>=4.0.0 in c:\\programdata\\miniconda3\\lib\\site-packages (from Mastodon.py) (5.1.1)\n",
      "Requirement already satisfied: six in c:\\programdata\\miniconda3\\lib\\site-packages (from Mastodon.py) (1.16.0)\n",
      "Collecting python-magic\n",
      "  Downloading python_magic-0.4.27-py2.py3-none-any.whl (13 kB)\n",
      "Requirement already satisfied: requests>=2.4.2 in c:\\programdata\\miniconda3\\lib\\site-packages (from Mastodon.py) (2.28.2)\n",
      "Collecting blurhash>=1.1.4\n",
      "  Downloading blurhash-1.1.4-py2.py3-none-any.whl (5.3 kB)\n",
      "Requirement already satisfied: python-dateutil in c:\\programdata\\miniconda3\\lib\\site-packages (from Mastodon.py) (2.8.2)\n",
      "Requirement already satisfied: idna<4,>=2.5 in c:\\programdata\\miniconda3\\lib\\site-packages (from requests>=2.4.2->Mastodon.py) (3.4)\n",
      "Requirement already satisfied: urllib3<1.27,>=1.21.1 in c:\\programdata\\miniconda3\\lib\\site-packages (from requests>=2.4.2->Mastodon.py) (1.26.14)\n",
      "Requirement already satisfied: charset-normalizer<4,>=2 in c:\\programdata\\miniconda3\\lib\\site-packages (from requests>=2.4.2->Mastodon.py) (2.1.1)\n",
      "Requirement already satisfied: certifi>=2017.4.17 in c:\\programdata\\miniconda3\\lib\\site-packages (from requests>=2.4.2->Mastodon.py) (2022.12.7)\n",
      "Installing collected packages: blurhash, python-magic, Mastodon.py\n",
      "Successfully installed Mastodon.py-1.8.0 blurhash-1.1.4 python-magic-0.4.27\n"
     ]
    }
   ],
   "source": [
    "! pip install Mastodon.py"
   ]
  },
  {
   "cell_type": "markdown",
   "metadata": {},
   "source": [
    "Import Mastodon.py"
   ]
  },
  {
   "cell_type": "code",
   "execution_count": 21,
   "metadata": {},
   "outputs": [],
   "source": [
    "from mastodon import Mastodon"
   ]
  },
  {
   "cell_type": "markdown",
   "metadata": {},
   "source": [
    "Create an application using your account."
   ]
  },
  {
   "cell_type": "code",
   "execution_count": 29,
   "metadata": {},
   "outputs": [
    {
     "data": {
      "text/plain": [
       "('TbRairSxsP56ThK6xmGDhGyGMIHMAw0e7KT7VhcNZNQ',\n",
       " 'sEOxSS2BcNErdNCXKMg06THW81fYnFHAPOpVSymHcRk')"
      ]
     },
     "execution_count": 29,
     "metadata": {},
     "output_type": "execute_result"
    }
   ],
   "source": [
    "Mastodon.create_app(\n",
    "    client_name = 'itss',\n",
    "    scopes = ['read'],\n",
    "    api_base_url = 'https://hci.social',\n",
    "    to_file = 'itss_credentials.secret'\n",
    ")"
   ]
  },
  {
   "cell_type": "markdown",
   "metadata": {},
   "source": [
    "Load up *my* credentials for logging into my account."
   ]
  },
  {
   "cell_type": "code",
   "execution_count": 30,
   "metadata": {},
   "outputs": [],
   "source": [
    "with open('login.json','r') as f:\n",
    "    credentials = json.load(f)"
   ]
  },
  {
   "cell_type": "markdown",
   "metadata": {},
   "source": [
    "Log in."
   ]
  },
  {
   "cell_type": "code",
   "execution_count": 32,
   "metadata": {},
   "outputs": [
    {
     "data": {
      "text/plain": [
       "'oi79cEZzbfJYK_6Vqky6jz2ciBrg-JUbIgi9f_bQ3u4'"
      ]
     },
     "execution_count": 32,
     "metadata": {},
     "output_type": "execute_result"
    }
   ],
   "source": [
    "masto = Mastodon(client_id = 'itss_credentials.secret')\n",
    "masto.log_in(\n",
    "    username = credentials['email'],\n",
    "    password = credentials['password'],\n",
    "    scopes = ['read'],\n",
    "    to_file = 'itss_user_credentials.secret'\n",
    ")"
   ]
  },
  {
   "cell_type": "markdown",
   "metadata": {},
   "source": [
    "Verify that your app is working."
   ]
  },
  {
   "cell_type": "code",
   "execution_count": 33,
   "metadata": {},
   "outputs": [
    {
     "data": {
      "text/plain": [
       "{'name': 'itss',\n",
       " 'website': None,\n",
       " 'vapid_key': 'BLBt86rTuiyg19iKV80dvsZ55WxX7Z-k91TZfeGBimVy-_CdEPi2AFz8lhwNXCrbZCpGmhF2rXieL2-xe-NQDXs='}"
      ]
     },
     "execution_count": 33,
     "metadata": {},
     "output_type": "execute_result"
    }
   ],
   "source": [
    "masto.app_verify_credentials()"
   ]
  },
  {
   "cell_type": "markdown",
   "metadata": {},
   "source": [
    "Get information about my account."
   ]
  },
  {
   "cell_type": "code",
   "execution_count": 34,
   "metadata": {},
   "outputs": [
    {
     "data": {
      "text/plain": [
       "{'id': 108280556926327188,\n",
       " 'username': 'bkeegan',\n",
       " 'acct': 'bkeegan',\n",
       " 'display_name': 'Brian C. Keegan',\n",
       " 'locked': False,\n",
       " 'bot': False,\n",
       " 'discoverable': True,\n",
       " 'group': False,\n",
       " 'created_at': datetime.datetime(2022, 5, 11, 0, 0, tzinfo=tzutc()),\n",
       " 'note': '<p>{Social, Data, Network, Information} Scientist. @CUInfoScience. High-tempo collaboration, online commons, cannabis informatics. @ucwcolorado. Born at 345ppm.</p>',\n",
       " 'url': 'https://hci.social/@bkeegan',\n",
       " 'avatar': 'https://storage.googleapis.com/hci-social-storage/accounts/avatars/108/280/556/926/327/188/original/e41167600515b0ae.png',\n",
       " 'avatar_static': 'https://storage.googleapis.com/hci-social-storage/accounts/avatars/108/280/556/926/327/188/original/e41167600515b0ae.png',\n",
       " 'header': 'https://storage.googleapis.com/hci-social-storage/accounts/headers/108/280/556/926/327/188/original/24ced44cadb7b394.png',\n",
       " 'header_static': 'https://storage.googleapis.com/hci-social-storage/accounts/headers/108/280/556/926/327/188/original/24ced44cadb7b394.png',\n",
       " 'followers_count': 2330,\n",
       " 'following_count': 1061,\n",
       " 'statuses_count': 1852,\n",
       " 'last_status_at': datetime.datetime(2023, 2, 20, 0, 0),\n",
       " 'noindex': False,\n",
       " 'source': {'privacy': 'public',\n",
       "  'sensitive': False,\n",
       "  'language': None,\n",
       "  'note': '{Social, Data, Network, Information} Scientist. @CUInfoScience. High-tempo collaboration, online commons, cannabis informatics. @ucwcolorado. Born at 345ppm.',\n",
       "  'fields': [{'name': 'Website',\n",
       "    'value': 'https://www.brianckeegan.com/',\n",
       "    'verified_at': None},\n",
       "   {'name': 'Github',\n",
       "    'value': 'https://github.com/brianckeegan/',\n",
       "    'verified_at': None},\n",
       "   {'name': 'Publications',\n",
       "    'value': 'https://scholar.google.com/citations?user=zkxrDS8AAAAJ&hl=en',\n",
       "    'verified_at': None},\n",
       "   {'name': 'Pronouns', 'value': 'he/him/his', 'verified_at': None}],\n",
       "  'follow_requests_count': 0},\n",
       " 'emojis': [],\n",
       " 'fields': [{'name': 'Website',\n",
       "   'value': '<a href=\"https://www.brianckeegan.com/\" target=\"_blank\" rel=\"nofollow noopener noreferrer me\"><span class=\"invisible\">https://www.</span><span class=\"\">brianckeegan.com/</span><span class=\"invisible\"></span></a>',\n",
       "   'verified_at': None},\n",
       "  {'name': 'Github',\n",
       "   'value': '<a href=\"https://github.com/brianckeegan/\" target=\"_blank\" rel=\"nofollow noopener noreferrer me\"><span class=\"invisible\">https://</span><span class=\"\">github.com/brianckeegan/</span><span class=\"invisible\"></span></a>',\n",
       "   'verified_at': None},\n",
       "  {'name': 'Publications',\n",
       "   'value': '<a href=\"https://scholar.google.com/citations?user=zkxrDS8AAAAJ&amp;hl=en\" target=\"_blank\" rel=\"nofollow noopener noreferrer me\"><span class=\"invisible\">https://</span><span class=\"ellipsis\">scholar.google.com/citations?u</span><span class=\"invisible\">ser=zkxrDS8AAAAJ&amp;hl=en</span></a>',\n",
       "   'verified_at': None},\n",
       "  {'name': 'Pronouns', 'value': 'he/him/his', 'verified_at': None}],\n",
       " 'role': {'id': -99,\n",
       "  'name': '',\n",
       "  'permissions': '0',\n",
       "  'color': '',\n",
       "  'highlighted': False}}"
      ]
     },
     "execution_count": 34,
     "metadata": {},
     "output_type": "execute_result"
    }
   ],
   "source": [
    "masto.me()"
   ]
  },
  {
   "cell_type": "markdown",
   "metadata": {},
   "source": [
    "Search for another account. [Eugen Rochko](https://mastodon.social/@Gargron) (@Gargron) is the lead developer of Mastodon."
   ]
  },
  {
   "cell_type": "code",
   "execution_count": 35,
   "metadata": {},
   "outputs": [
    {
     "data": {
      "text/plain": [
       "[{'id': 108290692843086639,\n",
       "  'username': 'Gargron',\n",
       "  'acct': 'Gargron@mastodon.social',\n",
       "  'display_name': 'Eugen Rochko',\n",
       "  'locked': False,\n",
       "  'bot': False,\n",
       "  'discoverable': True,\n",
       "  'group': False,\n",
       "  'created_at': datetime.datetime(2016, 3, 16, 0, 0, tzinfo=tzutc()),\n",
       "  'note': '<p>Founder, CEO and lead developer <span class=\"h-card\"><a href=\"https://mastodon.social/@Mastodon\" class=\"u-url mention\" rel=\"nofollow noopener noreferrer\" target=\"_blank\">@<span>Mastodon</span></a></span>, Germany.</p>',\n",
       "  'url': 'https://mastodon.social/@Gargron',\n",
       "  'avatar': 'https://storage.googleapis.com/hci-social-storage/cache/accounts/avatars/108/290/692/843/086/639/original/50cc6dd87123c2a1.jpg',\n",
       "  'avatar_static': 'https://storage.googleapis.com/hci-social-storage/cache/accounts/avatars/108/290/692/843/086/639/original/50cc6dd87123c2a1.jpg',\n",
       "  'header': 'https://storage.googleapis.com/hci-social-storage/cache/accounts/headers/108/290/692/843/086/639/original/b3821e505a12f479.jpeg',\n",
       "  'header_static': 'https://storage.googleapis.com/hci-social-storage/cache/accounts/headers/108/290/692/843/086/639/original/b3821e505a12f479.jpeg',\n",
       "  'followers_count': 296698,\n",
       "  'following_count': 374,\n",
       "  'statuses_count': 73250,\n",
       "  'last_status_at': datetime.datetime(2023, 2, 20, 0, 0),\n",
       "  'emojis': [],\n",
       "  'fields': [{'name': 'Patreon',\n",
       "    'value': '<a href=\"https://www.patreon.com/mastodon\" rel=\"nofollow noopener noreferrer\" target=\"_blank\"><span class=\"invisible\">https://www.</span><span class=\"\">patreon.com/mastodon</span><span class=\"invisible\"></span></a>',\n",
       "    'verified_at': None},\n",
       "   {'name': 'GitHub',\n",
       "    'value': '<a href=\"https://github.com/Gargron\" rel=\"nofollow noopener noreferrer\" target=\"_blank\"><span class=\"invisible\">https://</span><span class=\"\">github.com/Gargron</span><span class=\"invisible\"></span></a>',\n",
       "    'verified_at': '2023-02-18T18:08:52.689+00:00'}]}]"
      ]
     },
     "execution_count": 35,
     "metadata": {},
     "output_type": "execute_result"
    }
   ],
   "source": [
    "masto.account_search(\"Gargron@mastodon.social\")"
   ]
  },
  {
   "cell_type": "markdown",
   "metadata": {},
   "source": [
    "Get some recent statuses."
   ]
  },
  {
   "cell_type": "code",
   "execution_count": 42,
   "metadata": {
    "scrolled": false
   },
   "outputs": [
    {
     "data": {
      "text/plain": [
       "{'id': 109898984328297750,\n",
       " 'created_at': datetime.datetime(2023, 2, 20, 20, 37, 0, 54000, tzinfo=tzutc()),\n",
       " 'in_reply_to_id': None,\n",
       " 'in_reply_to_account_id': None,\n",
       " 'sensitive': False,\n",
       " 'spoiler_text': '',\n",
       " 'visibility': 'public',\n",
       " 'language': None,\n",
       " 'uri': 'https://hci.social/users/bkeegan/statuses/109898984328297750/activity',\n",
       " 'url': 'https://hci.social/users/bkeegan/statuses/109898984328297750/activity',\n",
       " 'replies_count': 0,\n",
       " 'reblogs_count': 0,\n",
       " 'favourites_count': 0,\n",
       " 'edited_at': None,\n",
       " 'favourited': False,\n",
       " 'reblogged': False,\n",
       " 'muted': False,\n",
       " 'bookmarked': False,\n",
       " 'content': '',\n",
       " 'filtered': [],\n",
       " 'reblog': {'id': 109898952295262798,\n",
       "  'created_at': datetime.datetime(2023, 2, 20, 20, 28, 47, tzinfo=tzutc()),\n",
       "  'in_reply_to_id': None,\n",
       "  'in_reply_to_account_id': None,\n",
       "  'sensitive': False,\n",
       "  'spoiler_text': '',\n",
       "  'visibility': 'public',\n",
       "  'language': 'en',\n",
       "  'uri': 'https://mastodon.social/users/atomicpoet/statuses/109898952063347105',\n",
       "  'url': 'https://mastodon.social/@atomicpoet/109898952063347105',\n",
       "  'replies_count': 2,\n",
       "  'reblogs_count': 8,\n",
       "  'favourites_count': 0,\n",
       "  'edited_at': datetime.datetime(2023, 2, 20, 20, 35, tzinfo=tzutc()),\n",
       "  'favourited': False,\n",
       "  'reblogged': True,\n",
       "  'muted': False,\n",
       "  'bookmarked': False,\n",
       "  'content': '<p>Do you know that your Mastodon profile can display featured hashtags?</p><p>And why would anyone want to do this?</p><p><span class=\"h-card\"><a href=\"https://mastodon.social/@box464\" class=\"u-url mention\" rel=\"nofollow noopener noreferrer\" target=\"_blank\">@<span>box464</span></a></span> has written an excellent guide on the benefits of featured hashtags, how to set them up, and how to make the most of them. </p><p><a href=\"https://box464.com/posts/mastodon-profile-hashtags/\" rel=\"nofollow noopener noreferrer\" target=\"_blank\"><span class=\"invisible\">https://</span><span class=\"ellipsis\">box464.com/posts/mastodon-prof</span><span class=\"invisible\">ile-hashtags/</span></a></p><p><span class=\"h-card\"><a href=\"https://venera.social/profile/fediversenews\" class=\"u-url mention\" rel=\"nofollow noopener noreferrer\" target=\"_blank\">@<span>fediversenews</span></a></span></p>',\n",
       "  'filtered': [],\n",
       "  'reblog': None,\n",
       "  'account': {'id': 108299271184902952,\n",
       "   'username': 'atomicpoet',\n",
       "   'acct': 'atomicpoet@mastodon.social',\n",
       "   'display_name': 'Chris Trottier',\n",
       "   'locked': False,\n",
       "   'bot': False,\n",
       "   'discoverable': True,\n",
       "   'group': False,\n",
       "   'created_at': datetime.datetime(2018, 8, 17, 0, 0, tzinfo=tzutc()),\n",
       "   'note': '<p>Product, QA &amp; marketing @ <a href=\"https://mastodon.social/tags/GreatApe\" class=\"mention hashtag\" rel=\"nofollow noopener noreferrer\" target=\"_blank\">#<span>GreatApe</span></a></p><p>Putting the sauce in awesome.</p>',\n",
       "   'url': 'https://mastodon.social/@atomicpoet',\n",
       "   'avatar': 'https://storage.googleapis.com/hci-social-storage/cache/accounts/avatars/108/299/271/184/902/952/original/de356c83626f0a0d.jpg',\n",
       "   'avatar_static': 'https://storage.googleapis.com/hci-social-storage/cache/accounts/avatars/108/299/271/184/902/952/original/de356c83626f0a0d.jpg',\n",
       "   'header': 'https://hci.social/headers/original/missing.png',\n",
       "   'header_static': 'https://hci.social/headers/original/missing.png',\n",
       "   'followers_count': 14455,\n",
       "   'following_count': 741,\n",
       "   'statuses_count': 20025,\n",
       "   'last_status_at': datetime.datetime(2023, 2, 20, 0, 0),\n",
       "   'emojis': [],\n",
       "   'fields': [{'name': 'Longform Articles',\n",
       "     'value': '<a href=\"https://blog.atomicpoet.org/s/4CRkW9zvj#\" rel=\"nofollow noopener noreferrer\" target=\"_blank\"><span class=\"invisible\">https://</span><span class=\"ellipsis\">blog.atomicpoet.org/s/4CRkW9zv</span><span class=\"invisible\">j#</span></a>',\n",
       "     'verified_at': None}]},\n",
       "  'media_attachments': [{'id': 109898952220718257,\n",
       "    'type': 'image',\n",
       "    'url': 'https://storage.googleapis.com/hci-social-storage/cache/media_attachments/files/109/898/952/220/718/257/original/44a0023da6d1fddc.png',\n",
       "    'preview_url': 'https://storage.googleapis.com/hci-social-storage/cache/media_attachments/files/109/898/952/220/718/257/small/44a0023da6d1fddc.png',\n",
       "    'remote_url': 'https://files.mastodon.social/media_attachments/files/109/898/950/464/715/742/original/3042cdfee892ac3c.png',\n",
       "    'preview_remote_url': None,\n",
       "    'text_url': None,\n",
       "    'meta': {'focus': {'x': 0.0, 'y': 0.0},\n",
       "     'original': {'width': 1200,\n",
       "      'height': 630,\n",
       "      'size': '1200x630',\n",
       "      'aspect': 1.9047619047619047},\n",
       "     'small': {'width': 662,\n",
       "      'height': 348,\n",
       "      'size': '662x348',\n",
       "      'aspect': 1.9022988505747127}},\n",
       "    'description': 'Mastodon Deep Dive\\n\\nAll about Featured #Hashtags',\n",
       "    'blurhash': 'UuJ@CW0a%DxBoLj?a#a}ESn$k9WYWqjZj?WE'}],\n",
       "  'mentions': [{'id': 109325859358094332,\n",
       "    'username': 'box464',\n",
       "    'url': 'https://mastodon.social/@box464',\n",
       "    'acct': 'box464@mastodon.social'},\n",
       "   {'id': 109566022922033345,\n",
       "    'username': 'fediversenews',\n",
       "    'url': 'https://venera.social/profile/fediversenews',\n",
       "    'acct': 'fediversenews@venera.social'}],\n",
       "  'tags': [],\n",
       "  'emojis': [],\n",
       "  'card': {'url': 'https://box464.com/posts/mastodon-profile-hashtags/',\n",
       "   'title': 'Getting the most out of Mastodon Profiles - Featured Hashtags',\n",
       "   'description': 'Featured hashtags are a powerful tool when searching for specific content. What are Featured Hashtags? Let’s get some official definitions out of the way first, then we’ll discuss in more detail.',\n",
       "   'type': 'link',\n",
       "   'author_name': '',\n",
       "   'author_url': '',\n",
       "   'provider_name': 'Jeff Sikes',\n",
       "   'provider_url': '',\n",
       "   'html': '',\n",
       "   'width': 400,\n",
       "   'height': 210,\n",
       "   'image': 'https://storage.googleapis.com/hci-social-storage/cache/preview_cards/images/000/858/998/original/ecdb3a2142168d73.png',\n",
       "   'embed_url': '',\n",
       "   'blurhash': 'UuJ%nx0a%DxBoLj?a#a}ESn$k9WYWqjaj?WE'},\n",
       "  'poll': None},\n",
       " 'application': None,\n",
       " 'account': {'id': 108280556926327188,\n",
       "  'username': 'bkeegan',\n",
       "  'acct': 'bkeegan',\n",
       "  'display_name': 'Brian C. Keegan',\n",
       "  'locked': False,\n",
       "  'bot': False,\n",
       "  'discoverable': True,\n",
       "  'group': False,\n",
       "  'created_at': datetime.datetime(2022, 5, 11, 0, 0, tzinfo=tzutc()),\n",
       "  'note': '<p>{Social, Data, Network, Information} Scientist. @CUInfoScience. High-tempo collaboration, online commons, cannabis informatics. @ucwcolorado. Born at 345ppm.</p>',\n",
       "  'url': 'https://hci.social/@bkeegan',\n",
       "  'avatar': 'https://storage.googleapis.com/hci-social-storage/accounts/avatars/108/280/556/926/327/188/original/e41167600515b0ae.png',\n",
       "  'avatar_static': 'https://storage.googleapis.com/hci-social-storage/accounts/avatars/108/280/556/926/327/188/original/e41167600515b0ae.png',\n",
       "  'header': 'https://storage.googleapis.com/hci-social-storage/accounts/headers/108/280/556/926/327/188/original/24ced44cadb7b394.png',\n",
       "  'header_static': 'https://storage.googleapis.com/hci-social-storage/accounts/headers/108/280/556/926/327/188/original/24ced44cadb7b394.png',\n",
       "  'followers_count': 2330,\n",
       "  'following_count': 1061,\n",
       "  'statuses_count': 1852,\n",
       "  'last_status_at': datetime.datetime(2023, 2, 20, 0, 0),\n",
       "  'noindex': False,\n",
       "  'emojis': [],\n",
       "  'fields': [{'name': 'Website',\n",
       "    'value': '<a href=\"https://www.brianckeegan.com/\" target=\"_blank\" rel=\"nofollow noopener noreferrer me\"><span class=\"invisible\">https://www.</span><span class=\"\">brianckeegan.com/</span><span class=\"invisible\"></span></a>',\n",
       "    'verified_at': None},\n",
       "   {'name': 'Github',\n",
       "    'value': '<a href=\"https://github.com/brianckeegan/\" target=\"_blank\" rel=\"nofollow noopener noreferrer me\"><span class=\"invisible\">https://</span><span class=\"\">github.com/brianckeegan/</span><span class=\"invisible\"></span></a>',\n",
       "    'verified_at': None},\n",
       "   {'name': 'Publications',\n",
       "    'value': '<a href=\"https://scholar.google.com/citations?user=zkxrDS8AAAAJ&amp;hl=en\" target=\"_blank\" rel=\"nofollow noopener noreferrer me\"><span class=\"invisible\">https://</span><span class=\"ellipsis\">scholar.google.com/citations?u</span><span class=\"invisible\">ser=zkxrDS8AAAAJ&amp;hl=en</span></a>',\n",
       "    'verified_at': None},\n",
       "   {'name': 'Pronouns', 'value': 'he/him/his', 'verified_at': None}]},\n",
       " 'media_attachments': [],\n",
       " 'mentions': [],\n",
       " 'tags': [],\n",
       " 'emojis': [],\n",
       " 'card': None,\n",
       " 'poll': None}"
      ]
     },
     "execution_count": 42,
     "metadata": {},
     "output_type": "execute_result"
    }
   ],
   "source": [
    "bkeegan_statuses = masto.account_statuses(108280556926327188,limit=500)\n",
    "bkeegan_statuses[0]"
   ]
  },
  {
   "cell_type": "markdown",
   "metadata": {},
   "source": [
    "Get who I follow."
   ]
  },
  {
   "cell_type": "code",
   "execution_count": 43,
   "metadata": {},
   "outputs": [
    {
     "data": {
      "text/plain": [
       "{'id': 109252321582544851,\n",
       " 'username': 'ryanstraight',\n",
       " 'acct': 'ryanstraight',\n",
       " 'display_name': 'Dr. Ryan Straight',\n",
       " 'locked': False,\n",
       " 'bot': False,\n",
       " 'discoverable': True,\n",
       " 'group': False,\n",
       " 'created_at': datetime.datetime(2022, 10, 29, 0, 0, tzinfo=tzutc()),\n",
       " 'note': '<p>Assoc/Honors Applied Computing/Cyber Operations Prof @uarizona | Director: <span class=\"h-card\"><a href=\"https://hci.social/@mavrxlab\" class=\"u-url mention\">@<span>mavrxlab</span></a></span>  | toots mine alone 🤭, Boost ≠ endorsement | <a href=\"https://hci.social/tags/highered\" class=\"mention hashtag\" rel=\"tag\">#<span>highered</span></a> <a href=\"https://hci.social/tags/hci\" class=\"mention hashtag\" rel=\"tag\">#<span>hci</span></a> <a href=\"https://hci.social/tags/xr\" class=\"mention hashtag\" rel=\"tag\">#<span>xr</span></a> <a href=\"https://hci.social/tags/vr\" class=\"mention hashtag\" rel=\"tag\">#<span>vr</span></a> <a href=\"https://hci.social/tags/ar\" class=\"mention hashtag\" rel=\"tag\">#<span>ar</span></a> <a href=\"https://hci.social/tags/cybersecurity\" class=\"mention hashtag\" rel=\"tag\">#<span>cybersecurity</span></a> <a href=\"https://hci.social/tags/rstats\" class=\"mention hashtag\" rel=\"tag\">#<span>rstats</span></a> <a href=\"https://hci.social/tags/quartopub\" class=\"mention hashtag\" rel=\"tag\">#<span>quartopub</span></a> <a href=\"https://hci.social/tags/tattoos\" class=\"mention hashtag\" rel=\"tag\">#<span>tattoos</span></a> <a href=\"https://hci.social/tags/edtech\" class=\"mention hashtag\" rel=\"tag\">#<span>edtech</span></a> <a href=\"https://hci.social/tags/onlinelearning\" class=\"mention hashtag\" rel=\"tag\">#<span>onlinelearning</span></a> | he/him</p>',\n",
       " 'url': 'https://hci.social/@ryanstraight',\n",
       " 'avatar': 'https://storage.googleapis.com/hci-social-storage/accounts/avatars/109/252/321/582/544/851/original/c4b6b0eda624241d.png',\n",
       " 'avatar_static': 'https://storage.googleapis.com/hci-social-storage/accounts/avatars/109/252/321/582/544/851/original/c4b6b0eda624241d.png',\n",
       " 'header': 'https://storage.googleapis.com/hci-social-storage/accounts/headers/109/252/321/582/544/851/original/f9f596137b36c762.gif',\n",
       " 'header_static': 'https://storage.googleapis.com/hci-social-storage/accounts/headers/109/252/321/582/544/851/static/f9f596137b36c762.png',\n",
       " 'followers_count': 631,\n",
       " 'following_count': 311,\n",
       " 'statuses_count': 1252,\n",
       " 'last_status_at': datetime.datetime(2023, 2, 20, 0, 0),\n",
       " 'noindex': False,\n",
       " 'emojis': [],\n",
       " 'fields': [{'name': 'Lab account',\n",
       "   'value': '<span class=\"h-card\"><a href=\"https://hci.social/@mavrxlab\" class=\"u-url mention\">@<span>mavrxlab</span></a></span>',\n",
       "   'verified_at': None},\n",
       "  {'name': 'Lab',\n",
       "   'value': '<a href=\"https://mavrxlab.org\" target=\"_blank\" rel=\"nofollow noopener noreferrer me\"><span class=\"invisible\">https://</span><span class=\"\">mavrxlab.org</span><span class=\"invisible\"></span></a>',\n",
       "   'verified_at': None},\n",
       "  {'name': 'Website',\n",
       "   'value': '<a href=\"https://ryanstraight.com\" target=\"_blank\" rel=\"nofollow noopener noreferrer me\"><span class=\"invisible\">https://</span><span class=\"\">ryanstraight.com</span><span class=\"invisible\"></span></a>',\n",
       "   'verified_at': '2022-11-06T18:46:55.174+00:00'},\n",
       "  {'name': 'GitHub',\n",
       "   'value': '<a href=\"https://github.com/ryanstraight\" target=\"_blank\" rel=\"nofollow noopener noreferrer me\"><span class=\"invisible\">https://</span><span class=\"\">github.com/ryanstraight</span><span class=\"invisible\"></span></a>',\n",
       "   'verified_at': None}]}"
      ]
     },
     "execution_count": 43,
     "metadata": {},
     "output_type": "execute_result"
    }
   ],
   "source": [
    "bkeegan_following = masto.account_following(108280556926327188)\n",
    "bkeegan_following[0]"
   ]
  },
  {
   "cell_type": "markdown",
   "metadata": {},
   "source": [
    "Get who follows me."
   ]
  },
  {
   "cell_type": "code",
   "execution_count": 44,
   "metadata": {},
   "outputs": [
    {
     "data": {
      "text/plain": [
       "{'id': 109444142731904621,\n",
       " 'username': 'chitalyconf',\n",
       " 'acct': 'chitalyconf',\n",
       " 'display_name': 'CHItaly 2023 Turin',\n",
       " 'locked': False,\n",
       " 'bot': False,\n",
       " 'discoverable': True,\n",
       " 'group': False,\n",
       " 'created_at': datetime.datetime(2022, 12, 2, 0, 0, tzinfo=tzutc()),\n",
       " 'note': '<p>CHItaly2023 is the 15th edition of Biannual Conference of the Italian SIGCHI Chapter, hosted in Turin.<br />The conference theme is “Crossing HCI and AI.”</p>',\n",
       " 'url': 'https://hci.social/@chitalyconf',\n",
       " 'avatar': 'https://storage.googleapis.com/hci-social-storage/accounts/avatars/109/444/142/731/904/621/original/fba1f4565a8e80aa.png',\n",
       " 'avatar_static': 'https://storage.googleapis.com/hci-social-storage/accounts/avatars/109/444/142/731/904/621/original/fba1f4565a8e80aa.png',\n",
       " 'header': 'https://storage.googleapis.com/hci-social-storage/accounts/headers/109/444/142/731/904/621/original/66e920544988d237.png',\n",
       " 'header_static': 'https://storage.googleapis.com/hci-social-storage/accounts/headers/109/444/142/731/904/621/original/66e920544988d237.png',\n",
       " 'followers_count': 85,\n",
       " 'following_count': 233,\n",
       " 'statuses_count': 22,\n",
       " 'last_status_at': datetime.datetime(2023, 2, 20, 0, 0),\n",
       " 'noindex': False,\n",
       " 'emojis': [],\n",
       " 'fields': [{'name': 'Web',\n",
       "   'value': '<a href=\"https://chitaly2023.it/\" target=\"_blank\" rel=\"nofollow noopener noreferrer me\"><span class=\"invisible\">https://</span><span class=\"\">chitaly2023.it/</span><span class=\"invisible\"></span></a>',\n",
       "   'verified_at': None},\n",
       "  {'name': 'Instagram',\n",
       "   'value': '<a href=\"https://www.instagram.com/chitalyconf/\" target=\"_blank\" rel=\"nofollow noopener noreferrer me\"><span class=\"invisible\">https://www.</span><span class=\"\">instagram.com/chitalyconf/</span><span class=\"invisible\"></span></a>',\n",
       "   'verified_at': None},\n",
       "  {'name': 'Facebook',\n",
       "   'value': '<a href=\"https://www.facebook.com/chitalyconf\" target=\"_blank\" rel=\"nofollow noopener noreferrer me\"><span class=\"invisible\">https://www.</span><span class=\"\">facebook.com/chitalyconf</span><span class=\"invisible\"></span></a>',\n",
       "   'verified_at': None},\n",
       "  {'name': 'Twitter',\n",
       "   'value': '<a href=\"https://twitter.com/chitalyconf\" target=\"_blank\" rel=\"nofollow noopener noreferrer me\"><span class=\"invisible\">https://</span><span class=\"\">twitter.com/chitalyconf</span><span class=\"invisible\"></span></a>',\n",
       "   'verified_at': None}]}"
      ]
     },
     "execution_count": 44,
     "metadata": {},
     "output_type": "execute_result"
    }
   ],
   "source": [
    "bkeegan_followers = masto.account_followers(108280556926327188)\n",
    "bkeegan_followers[0]"
   ]
  },
  {
   "cell_type": "markdown",
   "metadata": {},
   "source": [
    "Get my local timeline."
   ]
  },
  {
   "cell_type": "code",
   "execution_count": 46,
   "metadata": {},
   "outputs": [
    {
     "data": {
      "text/plain": [
       "{'id': 109899267268038294,\n",
       " 'created_at': datetime.datetime(2023, 2, 20, 21, 48, 57, 369000, tzinfo=tzutc()),\n",
       " 'in_reply_to_id': None,\n",
       " 'in_reply_to_account_id': None,\n",
       " 'sensitive': False,\n",
       " 'spoiler_text': '',\n",
       " 'visibility': 'public',\n",
       " 'language': 'en',\n",
       " 'uri': 'https://hci.social/users/cfiesler/statuses/109899267268038294',\n",
       " 'url': 'https://hci.social/@cfiesler/109899267268038294',\n",
       " 'replies_count': 1,\n",
       " 'reblogs_count': 4,\n",
       " 'favourites_count': 7,\n",
       " 'edited_at': None,\n",
       " 'favourited': False,\n",
       " 'reblogged': False,\n",
       " 'muted': False,\n",
       " 'bookmarked': False,\n",
       " 'content': '<p>&quot;5 burning questions about ChatGPT, answered by humans&quot; from my university. One of those humans is me, I&#39;m a human! </p><p><a href=\"https://www.colorado.edu/today/2023/02/20/5-burning-questions-about-chatgpt-answered-humans\" target=\"_blank\" rel=\"nofollow noopener noreferrer\"><span class=\"invisible\">https://www.</span><span class=\"ellipsis\">colorado.edu/today/2023/02/20/</span><span class=\"invisible\">5-burning-questions-about-chatgpt-answered-humans</span></a></p>',\n",
       " 'filtered': [],\n",
       " 'reblog': None,\n",
       " 'application': {'name': 'Web', 'website': None},\n",
       " 'account': {'id': 109248525508716712,\n",
       "  'username': 'cfiesler',\n",
       "  'acct': 'cfiesler',\n",
       "  'display_name': 'Dr. Casey Fiesler',\n",
       "  'locked': False,\n",
       "  'bot': False,\n",
       "  'discoverable': True,\n",
       "  'group': False,\n",
       "  'created_at': datetime.datetime(2022, 10, 28, 0, 0, tzinfo=tzutc()),\n",
       "  'note': '<p>information science prof at university of colorado boulder, social computing / tech ethics researcher, exceptionally minuscule tiktok star, fangirl / geek, she/her</p>',\n",
       "  'url': 'https://hci.social/@cfiesler',\n",
       "  'avatar': 'https://storage.googleapis.com/hci-social-storage/accounts/avatars/109/248/525/508/716/712/original/a71e01972412fff1.jpeg',\n",
       "  'avatar_static': 'https://storage.googleapis.com/hci-social-storage/accounts/avatars/109/248/525/508/716/712/original/a71e01972412fff1.jpeg',\n",
       "  'header': 'https://storage.googleapis.com/hci-social-storage/accounts/headers/109/248/525/508/716/712/original/72c077b59eaa3880.gif',\n",
       "  'header_static': 'https://storage.googleapis.com/hci-social-storage/accounts/headers/109/248/525/508/716/712/static/72c077b59eaa3880.png',\n",
       "  'followers_count': 9662,\n",
       "  'following_count': 397,\n",
       "  'statuses_count': 1008,\n",
       "  'last_status_at': datetime.datetime(2023, 2, 20, 0, 0),\n",
       "  'noindex': False,\n",
       "  'emojis': [],\n",
       "  'fields': [{'name': '🌎 Website',\n",
       "    'value': '<a href=\"https://caseyfiesler.com/\" target=\"_blank\" rel=\"nofollow noopener noreferrer me\"><span class=\"invisible\">https://</span><span class=\"\">caseyfiesler.com/</span><span class=\"invisible\"></span></a>',\n",
       "    'verified_at': '2022-11-25T14:16:29.308+00:00'},\n",
       "   {'name': '🎓 Publications',\n",
       "    'value': '<a href=\"https://scholar.google.com/citations?user=D9LfKkAe7d0C&amp;hl=en\" target=\"_blank\" rel=\"nofollow noopener noreferrer me\"><span class=\"invisible\">https://</span><span class=\"ellipsis\">scholar.google.com/citations?u</span><span class=\"invisible\">ser=D9LfKkAe7d0C&amp;hl=en</span></a>',\n",
       "    'verified_at': None},\n",
       "   {'name': '🕺 TikTok',\n",
       "    'value': '<a href=\"https://www.tiktok.com/@professorcasey\" target=\"_blank\" rel=\"nofollow noopener noreferrer me\"><span class=\"invisible\">https://www.</span><span class=\"\">tiktok.com/@professorcasey</span><span class=\"invisible\"></span></a>',\n",
       "    'verified_at': None}]},\n",
       " 'media_attachments': [],\n",
       " 'mentions': [],\n",
       " 'tags': [],\n",
       " 'emojis': [],\n",
       " 'card': {'url': 'https://www.colorado.edu/today/2023/02/20/5-burning-questions-about-chatgpt-answered-humans',\n",
       "  'title': '5 burning questions about ChatGPT, answered by humans',\n",
       "  'description': 'Artificial intelligence has reached an \"inflection point,\" according to technology experts from CU Boulder. New tools like ChatGPT, which rolled out late last year, are poised to transform offices, high school classrooms and more—in potentially good and bad ways.',\n",
       "  'type': 'link',\n",
       "  'author_name': '',\n",
       "  'author_url': '',\n",
       "  'provider_name': 'CU Boulder Today',\n",
       "  'provider_url': '',\n",
       "  'html': '',\n",
       "  'width': 400,\n",
       "  'height': 400,\n",
       "  'image': 'https://storage.googleapis.com/hci-social-storage/cache/preview_cards/images/000/861/805/original/f9c37b8f3a45fadd.png',\n",
       "  'embed_url': '',\n",
       "  'blurhash': 'UXIY2#4:8^%g4;R.r;tRpJSi%LM{X9xuxYIU'},\n",
       " 'poll': None}"
      ]
     },
     "execution_count": 46,
     "metadata": {},
     "output_type": "execute_result"
    }
   ],
   "source": [
    "local_timeline = masto.timeline_local()\n",
    "local_timeline[0]"
   ]
  },
  {
   "cell_type": "markdown",
   "metadata": {},
   "source": [
    "Search for toots with a given hashtag."
   ]
  },
  {
   "cell_type": "code",
   "execution_count": 47,
   "metadata": {},
   "outputs": [
    {
     "data": {
      "text/plain": [
       "[{'id': 109872751291748175,\n",
       "  'created_at': datetime.datetime(2023, 2, 16, 5, 25, 35, 686000, tzinfo=tzutc()),\n",
       "  'in_reply_to_id': None,\n",
       "  'in_reply_to_account_id': None,\n",
       "  'sensitive': False,\n",
       "  'spoiler_text': '',\n",
       "  'visibility': 'public',\n",
       "  'language': 'en',\n",
       "  'uri': 'https://hci.social/users/bkeegan/statuses/109872751291748175',\n",
       "  'url': 'https://hci.social/@bkeegan/109872751291748175',\n",
       "  'replies_count': 6,\n",
       "  'reblogs_count': 8,\n",
       "  'favourites_count': 4,\n",
       "  'edited_at': datetime.datetime(2023, 2, 16, 5, 58, 31, 120000, tzinfo=tzutc()),\n",
       "  'favourited': False,\n",
       "  'reblogged': True,\n",
       "  'muted': False,\n",
       "  'bookmarked': False,\n",
       "  'pinned': False,\n",
       "  'content': '<p>What is the biggest challenge the fediverse will face by the end of 2023? <a href=\"https://hci.social/tags/TheorizingTheFediverse\" class=\"mention hashtag\" rel=\"tag\">#<span>TheorizingTheFediverse</span></a></p>',\n",
       "  'filtered': [],\n",
       "  'reblog': None,\n",
       "  'application': {'name': 'Ivory for iOS', 'website': 'https://tapbots.com/'},\n",
       "  'account': {'id': 108280556926327188,\n",
       "   'username': 'bkeegan',\n",
       "   'acct': 'bkeegan',\n",
       "   'display_name': 'Brian C. Keegan',\n",
       "   'locked': False,\n",
       "   'bot': False,\n",
       "   'discoverable': True,\n",
       "   'group': False,\n",
       "   'created_at': datetime.datetime(2022, 5, 11, 0, 0, tzinfo=tzutc()),\n",
       "   'note': '<p>{Social, Data, Network, Information} Scientist. @CUInfoScience. High-tempo collaboration, online commons, cannabis informatics. @ucwcolorado. Born at 345ppm.</p>',\n",
       "   'url': 'https://hci.social/@bkeegan',\n",
       "   'avatar': 'https://storage.googleapis.com/hci-social-storage/accounts/avatars/108/280/556/926/327/188/original/e41167600515b0ae.png',\n",
       "   'avatar_static': 'https://storage.googleapis.com/hci-social-storage/accounts/avatars/108/280/556/926/327/188/original/e41167600515b0ae.png',\n",
       "   'header': 'https://storage.googleapis.com/hci-social-storage/accounts/headers/108/280/556/926/327/188/original/24ced44cadb7b394.png',\n",
       "   'header_static': 'https://storage.googleapis.com/hci-social-storage/accounts/headers/108/280/556/926/327/188/original/24ced44cadb7b394.png',\n",
       "   'followers_count': 2330,\n",
       "   'following_count': 1061,\n",
       "   'statuses_count': 1853,\n",
       "   'last_status_at': datetime.datetime(2023, 2, 20, 0, 0),\n",
       "   'noindex': False,\n",
       "   'emojis': [],\n",
       "   'fields': [{'name': 'Website',\n",
       "     'value': '<a href=\"https://www.brianckeegan.com/\" target=\"_blank\" rel=\"nofollow noopener noreferrer me\"><span class=\"invisible\">https://www.</span><span class=\"\">brianckeegan.com/</span><span class=\"invisible\"></span></a>',\n",
       "     'verified_at': None},\n",
       "    {'name': 'Github',\n",
       "     'value': '<a href=\"https://github.com/brianckeegan/\" target=\"_blank\" rel=\"nofollow noopener noreferrer me\"><span class=\"invisible\">https://</span><span class=\"\">github.com/brianckeegan/</span><span class=\"invisible\"></span></a>',\n",
       "     'verified_at': None},\n",
       "    {'name': 'Publications',\n",
       "     'value': '<a href=\"https://scholar.google.com/citations?user=zkxrDS8AAAAJ&amp;hl=en\" target=\"_blank\" rel=\"nofollow noopener noreferrer me\"><span class=\"invisible\">https://</span><span class=\"ellipsis\">scholar.google.com/citations?u</span><span class=\"invisible\">ser=zkxrDS8AAAAJ&amp;hl=en</span></a>',\n",
       "     'verified_at': None},\n",
       "    {'name': 'Pronouns', 'value': 'he/him/his', 'verified_at': None}]},\n",
       "  'media_attachments': [],\n",
       "  'mentions': [],\n",
       "  'tags': [{'name': 'TheorizingTheFediverse',\n",
       "    'url': 'https://hci.social/tags/TheorizingTheFediverse'}],\n",
       "  'emojis': [],\n",
       "  'card': None,\n",
       "  'poll': {'id': 21980,\n",
       "   'expires_at': datetime.datetime(2023, 2, 17, 5, 58, 31, 108000, tzinfo=tzutc()),\n",
       "   'expired': True,\n",
       "   'multiple': False,\n",
       "   'votes_count': 64,\n",
       "   'voters_count': 83,\n",
       "   'voted': True,\n",
       "   'own_votes': [],\n",
       "   'options': [{'title': 'Financial sustainability', 'votes_count': 14},\n",
       "    {'title': 'Moderator burnout', 'votes_count': 40},\n",
       "    {'title': 'Stochastic newcomer waves', 'votes_count': 4},\n",
       "    {'title': 'Quote toot discourse', 'votes_count': 6}],\n",
       "   'emojis': []}},\n",
       " {'id': 109510486712188444,\n",
       "  'created_at': datetime.datetime(2022, 12, 14, 5, 56, 56, 879000, tzinfo=tzutc()),\n",
       "  'in_reply_to_id': 109509959229803106,\n",
       "  'in_reply_to_account_id': 109248525508716712,\n",
       "  'sensitive': False,\n",
       "  'spoiler_text': '',\n",
       "  'visibility': 'public',\n",
       "  'language': 'en',\n",
       "  'uri': 'https://hci.social/users/bkeegan/statuses/109510486712188444',\n",
       "  'url': 'https://hci.social/@bkeegan/109510486712188444',\n",
       "  'replies_count': 0,\n",
       "  'reblogs_count': 0,\n",
       "  'favourites_count': 1,\n",
       "  'edited_at': None,\n",
       "  'favourited': False,\n",
       "  'reblogged': False,\n",
       "  'muted': False,\n",
       "  'bookmarked': False,\n",
       "  'pinned': False,\n",
       "  'content': '<p><span class=\"h-card\"><a href=\"https://hci.social/@cfiesler\" class=\"u-url mention\">@<span>cfiesler</span></a></span> <span class=\"h-card\"><a href=\"https://hci.social/@priyakalot\" class=\"u-url mention\">@<span>priyakalot</span></a></span> <span class=\"h-card\"><a href=\"https://hci.social/@masmart\" class=\"u-url mention\">@<span>masmart</span></a></span> <a href=\"https://hci.social/tags/TheorizingTheFediverse\" class=\"mention hashtag\" rel=\"tag\">#<span>TheorizingTheFediverse</span></a> <a href=\"https://hci.social/tags/TheoryOfMastodon\" class=\"mention hashtag\" rel=\"tag\">#<span>TheoryOfMastodon</span></a></p>',\n",
       "  'filtered': [],\n",
       "  'reblog': None,\n",
       "  'application': {'name': 'Toot!', 'website': 'https://toot.c3.cx/'},\n",
       "  'account': {'id': 108280556926327188,\n",
       "   'username': 'bkeegan',\n",
       "   'acct': 'bkeegan',\n",
       "   'display_name': 'Brian C. Keegan',\n",
       "   'locked': False,\n",
       "   'bot': False,\n",
       "   'discoverable': True,\n",
       "   'group': False,\n",
       "   'created_at': datetime.datetime(2022, 5, 11, 0, 0, tzinfo=tzutc()),\n",
       "   'note': '<p>{Social, Data, Network, Information} Scientist. @CUInfoScience. High-tempo collaboration, online commons, cannabis informatics. @ucwcolorado. Born at 345ppm.</p>',\n",
       "   'url': 'https://hci.social/@bkeegan',\n",
       "   'avatar': 'https://storage.googleapis.com/hci-social-storage/accounts/avatars/108/280/556/926/327/188/original/e41167600515b0ae.png',\n",
       "   'avatar_static': 'https://storage.googleapis.com/hci-social-storage/accounts/avatars/108/280/556/926/327/188/original/e41167600515b0ae.png',\n",
       "   'header': 'https://storage.googleapis.com/hci-social-storage/accounts/headers/108/280/556/926/327/188/original/24ced44cadb7b394.png',\n",
       "   'header_static': 'https://storage.googleapis.com/hci-social-storage/accounts/headers/108/280/556/926/327/188/original/24ced44cadb7b394.png',\n",
       "   'followers_count': 2330,\n",
       "   'following_count': 1061,\n",
       "   'statuses_count': 1853,\n",
       "   'last_status_at': datetime.datetime(2023, 2, 20, 0, 0),\n",
       "   'noindex': False,\n",
       "   'emojis': [],\n",
       "   'fields': [{'name': 'Website',\n",
       "     'value': '<a href=\"https://www.brianckeegan.com/\" target=\"_blank\" rel=\"nofollow noopener noreferrer me\"><span class=\"invisible\">https://www.</span><span class=\"\">brianckeegan.com/</span><span class=\"invisible\"></span></a>',\n",
       "     'verified_at': None},\n",
       "    {'name': 'Github',\n",
       "     'value': '<a href=\"https://github.com/brianckeegan/\" target=\"_blank\" rel=\"nofollow noopener noreferrer me\"><span class=\"invisible\">https://</span><span class=\"\">github.com/brianckeegan/</span><span class=\"invisible\"></span></a>',\n",
       "     'verified_at': None},\n",
       "    {'name': 'Publications',\n",
       "     'value': '<a href=\"https://scholar.google.com/citations?user=zkxrDS8AAAAJ&amp;hl=en\" target=\"_blank\" rel=\"nofollow noopener noreferrer me\"><span class=\"invisible\">https://</span><span class=\"ellipsis\">scholar.google.com/citations?u</span><span class=\"invisible\">ser=zkxrDS8AAAAJ&amp;hl=en</span></a>',\n",
       "     'verified_at': None},\n",
       "    {'name': 'Pronouns', 'value': 'he/him/his', 'verified_at': None}]},\n",
       "  'media_attachments': [],\n",
       "  'mentions': [{'id': 109248525508716712,\n",
       "    'username': 'cfiesler',\n",
       "    'url': 'https://hci.social/@cfiesler',\n",
       "    'acct': 'cfiesler'},\n",
       "   {'id': 109255055968453888,\n",
       "    'username': 'priyakalot',\n",
       "    'url': 'https://hci.social/@priyakalot',\n",
       "    'acct': 'priyakalot'},\n",
       "   {'id': 108284496969846045,\n",
       "    'username': 'masmart',\n",
       "    'url': 'https://hci.social/@masmart',\n",
       "    'acct': 'masmart'}],\n",
       "  'tags': [{'name': 'TheorizingTheFediverse',\n",
       "    'url': 'https://hci.social/tags/TheorizingTheFediverse'},\n",
       "   {'name': 'TheoryOfMastodon',\n",
       "    'url': 'https://hci.social/tags/TheoryOfMastodon'}],\n",
       "  'emojis': [],\n",
       "  'card': None,\n",
       "  'poll': None},\n",
       " {'id': 109362292070739392,\n",
       "  'created_at': datetime.datetime(2022, 11, 18, 1, 49, 6, 111000, tzinfo=tzutc()),\n",
       "  'in_reply_to_id': None,\n",
       "  'in_reply_to_account_id': None,\n",
       "  'sensitive': False,\n",
       "  'spoiler_text': '',\n",
       "  'visibility': 'public',\n",
       "  'language': 'en',\n",
       "  'uri': 'https://hci.social/users/bkeegan/statuses/109362292070739392',\n",
       "  'url': 'https://hci.social/@bkeegan/109362292070739392',\n",
       "  'replies_count': 8,\n",
       "  'reblogs_count': 50,\n",
       "  'favourites_count': 82,\n",
       "  'edited_at': None,\n",
       "  'favourited': False,\n",
       "  'reblogged': False,\n",
       "  'muted': False,\n",
       "  'bookmarked': False,\n",
       "  'pinned': True,\n",
       "  'content': '<p>I started a <a href=\"https://hci.social/tags/zotero\" class=\"mention hashtag\" rel=\"tag\">#<span>zotero</span></a> group library focused on research about <a href=\"https://hci.social/tags/activitypub\" class=\"mention hashtag\" rel=\"tag\">#<span>activitypub</span></a>, <a href=\"https://hci.social/tags/decentralization\" class=\"mention hashtag\" rel=\"tag\">#<span>decentralization</span></a>, <a href=\"https://hci.social/tags/affordances\" class=\"mention hashtag\" rel=\"tag\">#<span>affordances</span></a>, Mastodon, migration, <a href=\"https://hci.social/tags/moderation\" class=\"mention hashtag\" rel=\"tag\">#<span>moderation</span></a>, and <a href=\"https://hci.social/tags/newcomers\" class=\"mention hashtag\" rel=\"tag\">#<span>newcomers</span></a>. </p><p>Collaborators welcome! <a href=\"https://hci.social/tags/TheorizingTheFediverse\" class=\"mention hashtag\" rel=\"tag\">#<span>TheorizingTheFediverse</span></a> <a href=\"https://hci.social/tags/TheoryOfMastodon\" class=\"mention hashtag\" rel=\"tag\">#<span>TheoryOfMastodon</span></a> <a href=\"https://hci.social/tags/twittermigration\" class=\"mention hashtag\" rel=\"tag\">#<span>twittermigration</span></a> </p><p><a href=\"https://www.zotero.org/groups/4861035/fediverse_observatory/library\" target=\"_blank\" rel=\"nofollow noopener noreferrer\"><span class=\"invisible\">https://www.</span><span class=\"ellipsis\">zotero.org/groups/4861035/fedi</span><span class=\"invisible\">verse_observatory/library</span></a></p>',\n",
       "  'filtered': [],\n",
       "  'reblog': None,\n",
       "  'application': {'name': 'Web', 'website': None},\n",
       "  'account': {'id': 108280556926327188,\n",
       "   'username': 'bkeegan',\n",
       "   'acct': 'bkeegan',\n",
       "   'display_name': 'Brian C. Keegan',\n",
       "   'locked': False,\n",
       "   'bot': False,\n",
       "   'discoverable': True,\n",
       "   'group': False,\n",
       "   'created_at': datetime.datetime(2022, 5, 11, 0, 0, tzinfo=tzutc()),\n",
       "   'note': '<p>{Social, Data, Network, Information} Scientist. @CUInfoScience. High-tempo collaboration, online commons, cannabis informatics. @ucwcolorado. Born at 345ppm.</p>',\n",
       "   'url': 'https://hci.social/@bkeegan',\n",
       "   'avatar': 'https://storage.googleapis.com/hci-social-storage/accounts/avatars/108/280/556/926/327/188/original/e41167600515b0ae.png',\n",
       "   'avatar_static': 'https://storage.googleapis.com/hci-social-storage/accounts/avatars/108/280/556/926/327/188/original/e41167600515b0ae.png',\n",
       "   'header': 'https://storage.googleapis.com/hci-social-storage/accounts/headers/108/280/556/926/327/188/original/24ced44cadb7b394.png',\n",
       "   'header_static': 'https://storage.googleapis.com/hci-social-storage/accounts/headers/108/280/556/926/327/188/original/24ced44cadb7b394.png',\n",
       "   'followers_count': 2330,\n",
       "   'following_count': 1061,\n",
       "   'statuses_count': 1853,\n",
       "   'last_status_at': datetime.datetime(2023, 2, 20, 0, 0),\n",
       "   'noindex': False,\n",
       "   'emojis': [],\n",
       "   'fields': [{'name': 'Website',\n",
       "     'value': '<a href=\"https://www.brianckeegan.com/\" target=\"_blank\" rel=\"nofollow noopener noreferrer me\"><span class=\"invisible\">https://www.</span><span class=\"\">brianckeegan.com/</span><span class=\"invisible\"></span></a>',\n",
       "     'verified_at': None},\n",
       "    {'name': 'Github',\n",
       "     'value': '<a href=\"https://github.com/brianckeegan/\" target=\"_blank\" rel=\"nofollow noopener noreferrer me\"><span class=\"invisible\">https://</span><span class=\"\">github.com/brianckeegan/</span><span class=\"invisible\"></span></a>',\n",
       "     'verified_at': None},\n",
       "    {'name': 'Publications',\n",
       "     'value': '<a href=\"https://scholar.google.com/citations?user=zkxrDS8AAAAJ&amp;hl=en\" target=\"_blank\" rel=\"nofollow noopener noreferrer me\"><span class=\"invisible\">https://</span><span class=\"ellipsis\">scholar.google.com/citations?u</span><span class=\"invisible\">ser=zkxrDS8AAAAJ&amp;hl=en</span></a>',\n",
       "     'verified_at': None},\n",
       "    {'name': 'Pronouns', 'value': 'he/him/his', 'verified_at': None}]},\n",
       "  'media_attachments': [],\n",
       "  'mentions': [],\n",
       "  'tags': [{'name': 'zotero', 'url': 'https://hci.social/tags/zotero'},\n",
       "   {'name': 'activitypub', 'url': 'https://hci.social/tags/activitypub'},\n",
       "   {'name': 'decentralization',\n",
       "    'url': 'https://hci.social/tags/decentralization'},\n",
       "   {'name': 'affordances', 'url': 'https://hci.social/tags/affordances'},\n",
       "   {'name': 'Moderation', 'url': 'https://hci.social/tags/Moderation'},\n",
       "   {'name': 'newcomers', 'url': 'https://hci.social/tags/newcomers'},\n",
       "   {'name': 'TheorizingTheFediverse',\n",
       "    'url': 'https://hci.social/tags/TheorizingTheFediverse'},\n",
       "   {'name': 'TheoryOfMastodon',\n",
       "    'url': 'https://hci.social/tags/TheoryOfMastodon'},\n",
       "   {'name': 'twittermigration',\n",
       "    'url': 'https://hci.social/tags/twittermigration'}],\n",
       "  'emojis': [],\n",
       "  'card': {'url': 'https://www.zotero.org/groups/4861035/fediverse_observatory/library',\n",
       "   'title': 'Zotero | Your personal research assistant',\n",
       "   'description': '',\n",
       "   'type': 'link',\n",
       "   'author_name': '',\n",
       "   'author_url': '',\n",
       "   'provider_name': '',\n",
       "   'provider_url': '',\n",
       "   'html': '',\n",
       "   'width': 0,\n",
       "   'height': 0,\n",
       "   'image': None,\n",
       "   'embed_url': '',\n",
       "   'blurhash': None},\n",
       "  'poll': None},\n",
       " {'id': 109308935930465054,\n",
       "  'created_at': datetime.datetime(2022, 11, 8, 15, 39, 56, 17000, tzinfo=tzutc()),\n",
       "  'in_reply_to_id': 109246205243456930,\n",
       "  'in_reply_to_account_id': 108280556926327188,\n",
       "  'sensitive': False,\n",
       "  'spoiler_text': '',\n",
       "  'visibility': 'public',\n",
       "  'language': 'en',\n",
       "  'uri': 'https://hci.social/users/bkeegan/statuses/109308935930465054',\n",
       "  'url': 'https://hci.social/@bkeegan/109308935930465054',\n",
       "  'replies_count': 0,\n",
       "  'reblogs_count': 0,\n",
       "  'favourites_count': 2,\n",
       "  'edited_at': None,\n",
       "  'favourited': False,\n",
       "  'reblogged': False,\n",
       "  'muted': False,\n",
       "  'bookmarked': False,\n",
       "  'pinned': False,\n",
       "  'content': '<p><a href=\"https://hci.social/tags/TheorizingTheFediverse\" class=\"mention hashtag\" rel=\"tag\">#<span>TheorizingTheFediverse</span></a> <a href=\"https://hci.social/tags/TheoryOfMastodon\" class=\"mention hashtag\" rel=\"tag\">#<span>TheoryOfMastodon</span></a> <a href=\"https://hci.social/tags/Election2022\" class=\"mention hashtag\" rel=\"tag\">#<span>Election2022</span></a> </p><p>H5: Faultlines between newcomers and old timers will be heightened during major events because of tensions around norms/affordances of CWs, cross-posting, and threading. </p><p>H6: Instances will struggle with moderation decisions on election nights as users create and share political content that collapse identities and contexts.</p><p>H7: Breakdowns in one platform’s infrastructure will drive doom-scrolling users to alternative platforms.</p>',\n",
       "  'filtered': [],\n",
       "  'reblog': None,\n",
       "  'application': {'name': 'Metatext',\n",
       "   'website': 'https://metabolist.org/metatext'},\n",
       "  'account': {'id': 108280556926327188,\n",
       "   'username': 'bkeegan',\n",
       "   'acct': 'bkeegan',\n",
       "   'display_name': 'Brian C. Keegan',\n",
       "   'locked': False,\n",
       "   'bot': False,\n",
       "   'discoverable': True,\n",
       "   'group': False,\n",
       "   'created_at': datetime.datetime(2022, 5, 11, 0, 0, tzinfo=tzutc()),\n",
       "   'note': '<p>{Social, Data, Network, Information} Scientist. @CUInfoScience. High-tempo collaboration, online commons, cannabis informatics. @ucwcolorado. Born at 345ppm.</p>',\n",
       "   'url': 'https://hci.social/@bkeegan',\n",
       "   'avatar': 'https://storage.googleapis.com/hci-social-storage/accounts/avatars/108/280/556/926/327/188/original/e41167600515b0ae.png',\n",
       "   'avatar_static': 'https://storage.googleapis.com/hci-social-storage/accounts/avatars/108/280/556/926/327/188/original/e41167600515b0ae.png',\n",
       "   'header': 'https://storage.googleapis.com/hci-social-storage/accounts/headers/108/280/556/926/327/188/original/24ced44cadb7b394.png',\n",
       "   'header_static': 'https://storage.googleapis.com/hci-social-storage/accounts/headers/108/280/556/926/327/188/original/24ced44cadb7b394.png',\n",
       "   'followers_count': 2330,\n",
       "   'following_count': 1061,\n",
       "   'statuses_count': 1853,\n",
       "   'last_status_at': datetime.datetime(2023, 2, 20, 0, 0),\n",
       "   'noindex': False,\n",
       "   'emojis': [],\n",
       "   'fields': [{'name': 'Website',\n",
       "     'value': '<a href=\"https://www.brianckeegan.com/\" target=\"_blank\" rel=\"nofollow noopener noreferrer me\"><span class=\"invisible\">https://www.</span><span class=\"\">brianckeegan.com/</span><span class=\"invisible\"></span></a>',\n",
       "     'verified_at': None},\n",
       "    {'name': 'Github',\n",
       "     'value': '<a href=\"https://github.com/brianckeegan/\" target=\"_blank\" rel=\"nofollow noopener noreferrer me\"><span class=\"invisible\">https://</span><span class=\"\">github.com/brianckeegan/</span><span class=\"invisible\"></span></a>',\n",
       "     'verified_at': None},\n",
       "    {'name': 'Publications',\n",
       "     'value': '<a href=\"https://scholar.google.com/citations?user=zkxrDS8AAAAJ&amp;hl=en\" target=\"_blank\" rel=\"nofollow noopener noreferrer me\"><span class=\"invisible\">https://</span><span class=\"ellipsis\">scholar.google.com/citations?u</span><span class=\"invisible\">ser=zkxrDS8AAAAJ&amp;hl=en</span></a>',\n",
       "     'verified_at': None},\n",
       "    {'name': 'Pronouns', 'value': 'he/him/his', 'verified_at': None}]},\n",
       "  'media_attachments': [],\n",
       "  'mentions': [],\n",
       "  'tags': [{'name': 'TheorizingTheFediverse',\n",
       "    'url': 'https://hci.social/tags/TheorizingTheFediverse'},\n",
       "   {'name': 'TheoryOfMastodon',\n",
       "    'url': 'https://hci.social/tags/TheoryOfMastodon'},\n",
       "   {'name': 'election2022', 'url': 'https://hci.social/tags/election2022'}],\n",
       "  'emojis': [],\n",
       "  'card': None,\n",
       "  'poll': None},\n",
       " {'id': 109308466395458515,\n",
       "  'created_at': datetime.datetime(2022, 11, 8, 13, 40, 31, 475000, tzinfo=tzutc()),\n",
       "  'in_reply_to_id': 109308457541990271,\n",
       "  'in_reply_to_account_id': 109263564941704721,\n",
       "  'sensitive': False,\n",
       "  'spoiler_text': '',\n",
       "  'visibility': 'public',\n",
       "  'language': 'en',\n",
       "  'uri': 'https://hci.social/users/bkeegan/statuses/109308466395458515',\n",
       "  'url': 'https://hci.social/@bkeegan/109308466395458515',\n",
       "  'replies_count': 1,\n",
       "  'reblogs_count': 0,\n",
       "  'favourites_count': 0,\n",
       "  'edited_at': None,\n",
       "  'favourited': False,\n",
       "  'reblogged': False,\n",
       "  'muted': False,\n",
       "  'bookmarked': False,\n",
       "  'pinned': False,\n",
       "  'content': '<p><span class=\"h-card\"><a href=\"https://mastodon.social/@estebanmoro\" class=\"u-url mention\">@<span>estebanmoro</span></a></span> <a href=\"https://hci.social/tags/TheorizingTheFediverse\" class=\"mention hashtag\" rel=\"tag\">#<span>TheorizingTheFediverse</span></a></p>',\n",
       "  'filtered': [],\n",
       "  'reblog': None,\n",
       "  'application': {'name': 'Metatext',\n",
       "   'website': 'https://metabolist.org/metatext'},\n",
       "  'account': {'id': 108280556926327188,\n",
       "   'username': 'bkeegan',\n",
       "   'acct': 'bkeegan',\n",
       "   'display_name': 'Brian C. Keegan',\n",
       "   'locked': False,\n",
       "   'bot': False,\n",
       "   'discoverable': True,\n",
       "   'group': False,\n",
       "   'created_at': datetime.datetime(2022, 5, 11, 0, 0, tzinfo=tzutc()),\n",
       "   'note': '<p>{Social, Data, Network, Information} Scientist. @CUInfoScience. High-tempo collaboration, online commons, cannabis informatics. @ucwcolorado. Born at 345ppm.</p>',\n",
       "   'url': 'https://hci.social/@bkeegan',\n",
       "   'avatar': 'https://storage.googleapis.com/hci-social-storage/accounts/avatars/108/280/556/926/327/188/original/e41167600515b0ae.png',\n",
       "   'avatar_static': 'https://storage.googleapis.com/hci-social-storage/accounts/avatars/108/280/556/926/327/188/original/e41167600515b0ae.png',\n",
       "   'header': 'https://storage.googleapis.com/hci-social-storage/accounts/headers/108/280/556/926/327/188/original/24ced44cadb7b394.png',\n",
       "   'header_static': 'https://storage.googleapis.com/hci-social-storage/accounts/headers/108/280/556/926/327/188/original/24ced44cadb7b394.png',\n",
       "   'followers_count': 2330,\n",
       "   'following_count': 1061,\n",
       "   'statuses_count': 1853,\n",
       "   'last_status_at': datetime.datetime(2023, 2, 20, 0, 0),\n",
       "   'noindex': False,\n",
       "   'emojis': [],\n",
       "   'fields': [{'name': 'Website',\n",
       "     'value': '<a href=\"https://www.brianckeegan.com/\" target=\"_blank\" rel=\"nofollow noopener noreferrer me\"><span class=\"invisible\">https://www.</span><span class=\"\">brianckeegan.com/</span><span class=\"invisible\"></span></a>',\n",
       "     'verified_at': None},\n",
       "    {'name': 'Github',\n",
       "     'value': '<a href=\"https://github.com/brianckeegan/\" target=\"_blank\" rel=\"nofollow noopener noreferrer me\"><span class=\"invisible\">https://</span><span class=\"\">github.com/brianckeegan/</span><span class=\"invisible\"></span></a>',\n",
       "     'verified_at': None},\n",
       "    {'name': 'Publications',\n",
       "     'value': '<a href=\"https://scholar.google.com/citations?user=zkxrDS8AAAAJ&amp;hl=en\" target=\"_blank\" rel=\"nofollow noopener noreferrer me\"><span class=\"invisible\">https://</span><span class=\"ellipsis\">scholar.google.com/citations?u</span><span class=\"invisible\">ser=zkxrDS8AAAAJ&amp;hl=en</span></a>',\n",
       "     'verified_at': None},\n",
       "    {'name': 'Pronouns', 'value': 'he/him/his', 'verified_at': None}]},\n",
       "  'media_attachments': [],\n",
       "  'mentions': [{'id': 109263564941704721,\n",
       "    'username': 'estebanmoro',\n",
       "    'url': 'https://mastodon.social/@estebanmoro',\n",
       "    'acct': 'estebanmoro@mastodon.social'}],\n",
       "  'tags': [{'name': 'TheorizingTheFediverse',\n",
       "    'url': 'https://hci.social/tags/TheorizingTheFediverse'}],\n",
       "  'emojis': [],\n",
       "  'card': None,\n",
       "  'poll': None},\n",
       " {'id': 109271873267545002,\n",
       "  'created_at': datetime.datetime(2022, 11, 2, 2, 34, 24, 655000, tzinfo=tzutc()),\n",
       "  'in_reply_to_id': 109271851543780666,\n",
       "  'in_reply_to_account_id': 108233111945670878,\n",
       "  'sensitive': False,\n",
       "  'spoiler_text': '',\n",
       "  'visibility': 'public',\n",
       "  'language': 'en',\n",
       "  'uri': 'https://hci.social/users/bkeegan/statuses/109271873267545002',\n",
       "  'url': 'https://hci.social/@bkeegan/109271873267545002',\n",
       "  'replies_count': 2,\n",
       "  'reblogs_count': 0,\n",
       "  'favourites_count': 3,\n",
       "  'edited_at': None,\n",
       "  'favourited': False,\n",
       "  'reblogged': False,\n",
       "  'muted': False,\n",
       "  'bookmarked': False,\n",
       "  'pinned': False,\n",
       "  'content': '<p><span class=\"h-card\"><a href=\"https://hci.social/@andresmh\" class=\"u-url mention\">@<span>andresmh</span></a></span> I think November is going to bring a major shakeout across instances as trolls and shitposters migrate from Twitter and test moderation boundaries. </p><p>We could see a second wave of “micro-migrations” as users who defaulted to the big major instances in the past week are dissatisfied with their moderation strategy. </p><p>New instances will start to market their moderation strategies more explicitly, maybe tied to verification, subscriptions, professional mods, etc.</p><p><a href=\"https://hci.social/tags/TheorizingTheFediverse\" class=\"mention hashtag\" rel=\"tag\">#<span>TheorizingTheFediverse</span></a></p>',\n",
       "  'filtered': [],\n",
       "  'reblog': None,\n",
       "  'application': {'name': 'Metatext',\n",
       "   'website': 'https://metabolist.org/metatext'},\n",
       "  'account': {'id': 108280556926327188,\n",
       "   'username': 'bkeegan',\n",
       "   'acct': 'bkeegan',\n",
       "   'display_name': 'Brian C. Keegan',\n",
       "   'locked': False,\n",
       "   'bot': False,\n",
       "   'discoverable': True,\n",
       "   'group': False,\n",
       "   'created_at': datetime.datetime(2022, 5, 11, 0, 0, tzinfo=tzutc()),\n",
       "   'note': '<p>{Social, Data, Network, Information} Scientist. @CUInfoScience. High-tempo collaboration, online commons, cannabis informatics. @ucwcolorado. Born at 345ppm.</p>',\n",
       "   'url': 'https://hci.social/@bkeegan',\n",
       "   'avatar': 'https://storage.googleapis.com/hci-social-storage/accounts/avatars/108/280/556/926/327/188/original/e41167600515b0ae.png',\n",
       "   'avatar_static': 'https://storage.googleapis.com/hci-social-storage/accounts/avatars/108/280/556/926/327/188/original/e41167600515b0ae.png',\n",
       "   'header': 'https://storage.googleapis.com/hci-social-storage/accounts/headers/108/280/556/926/327/188/original/24ced44cadb7b394.png',\n",
       "   'header_static': 'https://storage.googleapis.com/hci-social-storage/accounts/headers/108/280/556/926/327/188/original/24ced44cadb7b394.png',\n",
       "   'followers_count': 2330,\n",
       "   'following_count': 1061,\n",
       "   'statuses_count': 1853,\n",
       "   'last_status_at': datetime.datetime(2023, 2, 20, 0, 0),\n",
       "   'noindex': False,\n",
       "   'emojis': [],\n",
       "   'fields': [{'name': 'Website',\n",
       "     'value': '<a href=\"https://www.brianckeegan.com/\" target=\"_blank\" rel=\"nofollow noopener noreferrer me\"><span class=\"invisible\">https://www.</span><span class=\"\">brianckeegan.com/</span><span class=\"invisible\"></span></a>',\n",
       "     'verified_at': None},\n",
       "    {'name': 'Github',\n",
       "     'value': '<a href=\"https://github.com/brianckeegan/\" target=\"_blank\" rel=\"nofollow noopener noreferrer me\"><span class=\"invisible\">https://</span><span class=\"\">github.com/brianckeegan/</span><span class=\"invisible\"></span></a>',\n",
       "     'verified_at': None},\n",
       "    {'name': 'Publications',\n",
       "     'value': '<a href=\"https://scholar.google.com/citations?user=zkxrDS8AAAAJ&amp;hl=en\" target=\"_blank\" rel=\"nofollow noopener noreferrer me\"><span class=\"invisible\">https://</span><span class=\"ellipsis\">scholar.google.com/citations?u</span><span class=\"invisible\">ser=zkxrDS8AAAAJ&amp;hl=en</span></a>',\n",
       "     'verified_at': None},\n",
       "    {'name': 'Pronouns', 'value': 'he/him/his', 'verified_at': None}]},\n",
       "  'media_attachments': [],\n",
       "  'mentions': [{'id': 108233111945670878,\n",
       "    'username': 'andresmh',\n",
       "    'url': 'https://hci.social/@andresmh',\n",
       "    'acct': 'andresmh'}],\n",
       "  'tags': [{'name': 'TheorizingTheFediverse',\n",
       "    'url': 'https://hci.social/tags/TheorizingTheFediverse'}],\n",
       "  'emojis': [],\n",
       "  'card': None,\n",
       "  'poll': None},\n",
       " {'id': 109271844102651247,\n",
       "  'created_at': datetime.datetime(2022, 11, 2, 2, 26, 59, 637000, tzinfo=tzutc()),\n",
       "  'in_reply_to_id': None,\n",
       "  'in_reply_to_account_id': None,\n",
       "  'sensitive': False,\n",
       "  'spoiler_text': '',\n",
       "  'visibility': 'public',\n",
       "  'language': 'en',\n",
       "  'uri': 'https://hci.social/users/bkeegan/statuses/109271844102651247',\n",
       "  'url': 'https://hci.social/@bkeegan/109271844102651247',\n",
       "  'replies_count': 2,\n",
       "  'reblogs_count': 0,\n",
       "  'favourites_count': 7,\n",
       "  'edited_at': None,\n",
       "  'favourited': False,\n",
       "  'reblogged': False,\n",
       "  'muted': False,\n",
       "  'bookmarked': False,\n",
       "  'pinned': False,\n",
       "  'content': '<p>Is anyone interested in collecting longitudinal data on the composition of blocklists across Mastodon instances? <a href=\"https://hci.social/tags/TheorizingTheFediverse\" class=\"mention hashtag\" rel=\"tag\">#<span>TheorizingTheFediverse</span></a></p>',\n",
       "  'filtered': [],\n",
       "  'reblog': None,\n",
       "  'application': {'name': 'Metatext',\n",
       "   'website': 'https://metabolist.org/metatext'},\n",
       "  'account': {'id': 108280556926327188,\n",
       "   'username': 'bkeegan',\n",
       "   'acct': 'bkeegan',\n",
       "   'display_name': 'Brian C. Keegan',\n",
       "   'locked': False,\n",
       "   'bot': False,\n",
       "   'discoverable': True,\n",
       "   'group': False,\n",
       "   'created_at': datetime.datetime(2022, 5, 11, 0, 0, tzinfo=tzutc()),\n",
       "   'note': '<p>{Social, Data, Network, Information} Scientist. @CUInfoScience. High-tempo collaboration, online commons, cannabis informatics. @ucwcolorado. Born at 345ppm.</p>',\n",
       "   'url': 'https://hci.social/@bkeegan',\n",
       "   'avatar': 'https://storage.googleapis.com/hci-social-storage/accounts/avatars/108/280/556/926/327/188/original/e41167600515b0ae.png',\n",
       "   'avatar_static': 'https://storage.googleapis.com/hci-social-storage/accounts/avatars/108/280/556/926/327/188/original/e41167600515b0ae.png',\n",
       "   'header': 'https://storage.googleapis.com/hci-social-storage/accounts/headers/108/280/556/926/327/188/original/24ced44cadb7b394.png',\n",
       "   'header_static': 'https://storage.googleapis.com/hci-social-storage/accounts/headers/108/280/556/926/327/188/original/24ced44cadb7b394.png',\n",
       "   'followers_count': 2330,\n",
       "   'following_count': 1061,\n",
       "   'statuses_count': 1853,\n",
       "   'last_status_at': datetime.datetime(2023, 2, 20, 0, 0),\n",
       "   'noindex': False,\n",
       "   'emojis': [],\n",
       "   'fields': [{'name': 'Website',\n",
       "     'value': '<a href=\"https://www.brianckeegan.com/\" target=\"_blank\" rel=\"nofollow noopener noreferrer me\"><span class=\"invisible\">https://www.</span><span class=\"\">brianckeegan.com/</span><span class=\"invisible\"></span></a>',\n",
       "     'verified_at': None},\n",
       "    {'name': 'Github',\n",
       "     'value': '<a href=\"https://github.com/brianckeegan/\" target=\"_blank\" rel=\"nofollow noopener noreferrer me\"><span class=\"invisible\">https://</span><span class=\"\">github.com/brianckeegan/</span><span class=\"invisible\"></span></a>',\n",
       "     'verified_at': None},\n",
       "    {'name': 'Publications',\n",
       "     'value': '<a href=\"https://scholar.google.com/citations?user=zkxrDS8AAAAJ&amp;hl=en\" target=\"_blank\" rel=\"nofollow noopener noreferrer me\"><span class=\"invisible\">https://</span><span class=\"ellipsis\">scholar.google.com/citations?u</span><span class=\"invisible\">ser=zkxrDS8AAAAJ&amp;hl=en</span></a>',\n",
       "     'verified_at': None},\n",
       "    {'name': 'Pronouns', 'value': 'he/him/his', 'verified_at': None}]},\n",
       "  'media_attachments': [],\n",
       "  'mentions': [],\n",
       "  'tags': [{'name': 'TheorizingTheFediverse',\n",
       "    'url': 'https://hci.social/tags/TheorizingTheFediverse'}],\n",
       "  'emojis': [],\n",
       "  'card': None,\n",
       "  'poll': None},\n",
       " {'id': 109246205243456930,\n",
       "  'created_at': datetime.datetime(2022, 10, 28, 13, 46, 41, 692000, tzinfo=tzutc()),\n",
       "  'in_reply_to_id': None,\n",
       "  'in_reply_to_account_id': None,\n",
       "  'sensitive': False,\n",
       "  'spoiler_text': '',\n",
       "  'visibility': 'public',\n",
       "  'language': 'en',\n",
       "  'uri': 'https://hci.social/users/bkeegan/statuses/109246205243456930',\n",
       "  'url': 'https://hci.social/@bkeegan/109246205243456930',\n",
       "  'replies_count': 11,\n",
       "  'reblogs_count': 15,\n",
       "  'favourites_count': 34,\n",
       "  'edited_at': None,\n",
       "  'favourited': False,\n",
       "  'reblogged': False,\n",
       "  'muted': False,\n",
       "  'bookmarked': False,\n",
       "  'pinned': False,\n",
       "  'content': '<p><a href=\"https://hci.social/tags/TheorizingTheFediverse\" class=\"mention hashtag\" rel=\"tag\">#<span>TheorizingTheFediverse</span></a></p><p>H1: There are distinct pulses of Twitter-to-Mastodon migration driven by events in Twitter’s history. </p><p>H2: Later cohorts of users will have lower familiarity + commitment to FOSS values + projects than earlier cohorts. </p><p>H3: New users will default to joining a general instance first and then micro-migrate to a more specific instance later. </p><p>H4: Greater circulation of folk documentation for using Fediverse affordances will attract and retain more new user activity.</p>',\n",
       "  'filtered': [],\n",
       "  'reblog': None,\n",
       "  'application': {'name': 'Metatext',\n",
       "   'website': 'https://metabolist.org/metatext'},\n",
       "  'account': {'id': 108280556926327188,\n",
       "   'username': 'bkeegan',\n",
       "   'acct': 'bkeegan',\n",
       "   'display_name': 'Brian C. Keegan',\n",
       "   'locked': False,\n",
       "   'bot': False,\n",
       "   'discoverable': True,\n",
       "   'group': False,\n",
       "   'created_at': datetime.datetime(2022, 5, 11, 0, 0, tzinfo=tzutc()),\n",
       "   'note': '<p>{Social, Data, Network, Information} Scientist. @CUInfoScience. High-tempo collaboration, online commons, cannabis informatics. @ucwcolorado. Born at 345ppm.</p>',\n",
       "   'url': 'https://hci.social/@bkeegan',\n",
       "   'avatar': 'https://storage.googleapis.com/hci-social-storage/accounts/avatars/108/280/556/926/327/188/original/e41167600515b0ae.png',\n",
       "   'avatar_static': 'https://storage.googleapis.com/hci-social-storage/accounts/avatars/108/280/556/926/327/188/original/e41167600515b0ae.png',\n",
       "   'header': 'https://storage.googleapis.com/hci-social-storage/accounts/headers/108/280/556/926/327/188/original/24ced44cadb7b394.png',\n",
       "   'header_static': 'https://storage.googleapis.com/hci-social-storage/accounts/headers/108/280/556/926/327/188/original/24ced44cadb7b394.png',\n",
       "   'followers_count': 2330,\n",
       "   'following_count': 1061,\n",
       "   'statuses_count': 1853,\n",
       "   'last_status_at': datetime.datetime(2023, 2, 20, 0, 0),\n",
       "   'noindex': False,\n",
       "   'emojis': [],\n",
       "   'fields': [{'name': 'Website',\n",
       "     'value': '<a href=\"https://www.brianckeegan.com/\" target=\"_blank\" rel=\"nofollow noopener noreferrer me\"><span class=\"invisible\">https://www.</span><span class=\"\">brianckeegan.com/</span><span class=\"invisible\"></span></a>',\n",
       "     'verified_at': None},\n",
       "    {'name': 'Github',\n",
       "     'value': '<a href=\"https://github.com/brianckeegan/\" target=\"_blank\" rel=\"nofollow noopener noreferrer me\"><span class=\"invisible\">https://</span><span class=\"\">github.com/brianckeegan/</span><span class=\"invisible\"></span></a>',\n",
       "     'verified_at': None},\n",
       "    {'name': 'Publications',\n",
       "     'value': '<a href=\"https://scholar.google.com/citations?user=zkxrDS8AAAAJ&amp;hl=en\" target=\"_blank\" rel=\"nofollow noopener noreferrer me\"><span class=\"invisible\">https://</span><span class=\"ellipsis\">scholar.google.com/citations?u</span><span class=\"invisible\">ser=zkxrDS8AAAAJ&amp;hl=en</span></a>',\n",
       "     'verified_at': None},\n",
       "    {'name': 'Pronouns', 'value': 'he/him/his', 'verified_at': None}]},\n",
       "  'media_attachments': [],\n",
       "  'mentions': [],\n",
       "  'tags': [{'name': 'TheorizingTheFediverse',\n",
       "    'url': 'https://hci.social/tags/TheorizingTheFediverse'}],\n",
       "  'emojis': [],\n",
       "  'card': None,\n",
       "  'poll': None}]"
      ]
     },
     "execution_count": 47,
     "metadata": {},
     "output_type": "execute_result"
    }
   ],
   "source": [
    "hashtag_toots = masto.timeline_hashtag('theorizingthefediverse')\n",
    "hashtag_toots"
   ]
  },
  {
   "cell_type": "code",
   "execution_count": null,
   "metadata": {},
   "outputs": [],
   "source": []
  }
 ],
 "metadata": {
  "kernelspec": {
   "display_name": "Python 3 (ipykernel)",
   "language": "python",
   "name": "python3"
  },
  "language_info": {
   "codemirror_mode": {
    "name": "ipython",
    "version": 3
   },
   "file_extension": ".py",
   "mimetype": "text/x-python",
   "name": "python",
   "nbconvert_exporter": "python",
   "pygments_lexer": "ipython3",
   "version": "3.9.16"
  }
 },
 "nbformat": 4,
 "nbformat_minor": 2
}
